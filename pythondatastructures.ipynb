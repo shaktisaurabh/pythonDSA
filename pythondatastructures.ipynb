{
 "cells": [
  {
   "cell_type": "code",
   "execution_count": 7,
   "id": "ea5e5fbb",
   "metadata": {},
   "outputs": [],
   "source": [
    "def evenoddchecker(a):\n",
    "    if a<=0:\n",
    "        print(\"Number is invalid\")\n",
    "    else:\n",
    "        \n",
    "        if a%2==0:\n",
    "            print(\"Number is even\")\n",
    "        else:\n",
    "            print(\"Number is odd\")"
   ]
  },
  {
   "cell_type": "code",
   "execution_count": 12,
   "id": "25dcfce4",
   "metadata": {
    "scrolled": true
   },
   "outputs": [
    {
     "name": "stdout",
     "output_type": "stream",
     "text": [
      "Enter a number: 13\n",
      "Number is odd\n"
     ]
    }
   ],
   "source": [
    "evenoddchecker(int(input(\"Enter a number: \")))"
   ]
  },
  {
   "cell_type": "code",
   "execution_count": 15,
   "id": "36705fa5",
   "metadata": {},
   "outputs": [],
   "source": [
    "#leapyear\n",
    "def leapyearchecker(c):\n",
    "    if c%4==0 and c%100!=0 or c%400==0:\n",
    "        print(\"leap year\")\n",
    "    else:\n",
    "        print(\"Not leap year\")"
   ]
  },
  {
   "cell_type": "code",
   "execution_count": 23,
   "id": "1178e344",
   "metadata": {
    "scrolled": false
   },
   "outputs": [
    {
     "name": "stdout",
     "output_type": "stream",
     "text": [
      "Enter the year: 1900\n",
      "Not leap year\n"
     ]
    }
   ],
   "source": [
    "leapyearchecker(int(input(\"Enter the year: \")))"
   ]
  },
  {
   "cell_type": "code",
   "execution_count": 30,
   "id": "68457698",
   "metadata": {},
   "outputs": [],
   "source": [
    "def creditscore(d):\n",
    "    if d<400 or d>850:\n",
    "        print(\"Invalid credit score\")\n",
    "    else:\n",
    "        if 400<=d<600:\n",
    "            print(\"Silver card\")\n",
    "        elif 600<=d<800:\n",
    "            print(\"Gold card\")"
   ]
  },
  {
   "cell_type": "code",
   "execution_count": 31,
   "id": "12d2fb99",
   "metadata": {},
   "outputs": [
    {
     "name": "stdout",
     "output_type": "stream",
     "text": [
      "Gold card\n"
     ]
    }
   ],
   "source": [
    "creditscore(700)"
   ]
  },
  {
   "cell_type": "code",
   "execution_count": 1,
   "id": "28462eb2",
   "metadata": {},
   "outputs": [],
   "source": [
    "#print digits in numbers\n",
    "def diginnumbers(num):\n",
    "    while num!=0:\n",
    "        digit=num%10#finds remainder o/p of this for 12345 is 5\n",
    "        print(digit)\n",
    "        num=num//10#output for this 12345 is 1234"
   ]
  },
  {
   "cell_type": "code",
   "execution_count": 3,
   "id": "7cb46ee0",
   "metadata": {
    "scrolled": true
   },
   "outputs": [
    {
     "name": "stdout",
     "output_type": "stream",
     "text": [
      "Enter the number:  12345\n",
      "5\n",
      "4\n",
      "3\n",
      "2\n",
      "1\n"
     ]
    }
   ],
   "source": [
    "diginnumbers(int(input(\"Enter the number:  \")))"
   ]
  },
  {
   "cell_type": "code",
   "execution_count": 6,
   "id": "74ef51df",
   "metadata": {},
   "outputs": [
    {
     "name": "stdout",
     "output_type": "stream",
     "text": [
      "Enter the number: 123456\n",
      "23\n",
      "654321\n"
     ]
    }
   ],
   "source": [
    "mn=input(\"Enter the number: \")\n",
    "print(mn[1:3])\n",
    "print(mn[::-1])#We can traverse through every character of string like we traverse through every item of a list using this technique\n"
   ]
  },
  {
   "cell_type": "code",
   "execution_count": 7,
   "id": "9bef055d",
   "metadata": {},
   "outputs": [],
   "source": [
    "def eachnumber(am):\n",
    "    for i in am[::-1]:\n",
    "        print(i)"
   ]
  },
  {
   "cell_type": "code",
   "execution_count": 9,
   "id": "6b4dd394",
   "metadata": {},
   "outputs": [
    {
     "name": "stdout",
     "output_type": "stream",
     "text": [
      "Enter the number: 123456789999\n",
      "9\n",
      "9\n",
      "9\n",
      "9\n",
      "8\n",
      "7\n",
      "6\n",
      "5\n",
      "4\n",
      "3\n",
      "2\n",
      "1\n"
     ]
    }
   ],
   "source": [
    "eachnumber(input(\"Enter the number: \"))"
   ]
  },
  {
   "cell_type": "code",
   "execution_count": 12,
   "id": "7ec7da0d",
   "metadata": {},
   "outputs": [],
   "source": [
    "def sumnumber(cl):\n",
    "    sm=0\n",
    "    for i in cl[::1]:\n",
    "        sm=sm+int(i)\n",
    "    print(f\"sum is {sm}\")"
   ]
  },
  {
   "cell_type": "code",
   "execution_count": 15,
   "id": "84612d06",
   "metadata": {
    "scrolled": true
   },
   "outputs": [
    {
     "name": "stdout",
     "output_type": "stream",
     "text": [
      "Enter the digits: 65417\n",
      "sum is 23\n"
     ]
    }
   ],
   "source": [
    "sumnumber(input(\"Enter the digits: \"))"
   ]
  },
  {
   "cell_type": "code",
   "execution_count": 20,
   "id": "913dc4eb",
   "metadata": {},
   "outputs": [],
   "source": [
    "def sumeven(cl1):\n",
    "    smev=0\n",
    "    for i in cl1[1::2]:\n",
    "        smev=smev+int(i)\n",
    "    print(f\"sum is {smev}\")\n"
   ]
  },
  {
   "cell_type": "code",
   "execution_count": 21,
   "id": "213f02e7",
   "metadata": {},
   "outputs": [
    {
     "name": "stdout",
     "output_type": "stream",
     "text": [
      "Enter the digits: 65417\n",
      "sum is 6\n"
     ]
    }
   ],
   "source": [
    "sumeven(input(\"Enter the digits: \"))"
   ]
  },
  {
   "cell_type": "code",
   "execution_count": 22,
   "id": "946d244f",
   "metadata": {},
   "outputs": [],
   "source": [
    "def sumodd(cl2):\n",
    "    sumodd=0\n",
    "    for i in cl2[::2]:\n",
    "        sumodd=sumodd+int(i)\n",
    "    print(f\"sum is {sumodd}\")"
   ]
  },
  {
   "cell_type": "code",
   "execution_count": 23,
   "id": "d708405d",
   "metadata": {},
   "outputs": [
    {
     "name": "stdout",
     "output_type": "stream",
     "text": [
      "Enter the digits: 65417\n",
      "sum is 17\n"
     ]
    }
   ],
   "source": [
    "sumodd(input(\"Enter the digits: \"))"
   ]
  },
  {
   "cell_type": "code",
   "execution_count": 24,
   "id": "1f81038d",
   "metadata": {},
   "outputs": [],
   "source": [
    "def sumnumber(cl):\n",
    "    sm=0\n",
    "    for i in cl:#we can comprehend through a string like we comprehend through a list\n",
    "        sm=sm+int(i)\n",
    "    print(f\"sum is {sm}\")"
   ]
  },
  {
   "cell_type": "code",
   "execution_count": 25,
   "id": "46ef2273",
   "metadata": {},
   "outputs": [
    {
     "name": "stdout",
     "output_type": "stream",
     "text": [
      "Enter the number: 65417\n",
      "sum is 23\n"
     ]
    }
   ],
   "source": [
    "sumnumber(input(\"Enter the number: \"))"
   ]
  },
  {
   "cell_type": "code",
   "execution_count": 40,
   "id": "0a72647c",
   "metadata": {},
   "outputs": [],
   "source": [
    "def sumprime(d1):\n",
    "    sm=0\n",
    "    for i in d1:\n",
    "        if int(i) in [2,3,5,7]:#if integer of i in either of 2,3,5,7\n",
    "            sm+=int(i)\n",
    "    print(f\"sum is {sm}\")"
   ]
  },
  {
   "cell_type": "code",
   "execution_count": 45,
   "id": "c5fd7bc4",
   "metadata": {
    "scrolled": true
   },
   "outputs": [
    {
     "name": "stdout",
     "output_type": "stream",
     "text": [
      "Enter the number: 1234567789\n",
      "sum is 24\n"
     ]
    }
   ],
   "source": [
    "sumprime(input(\"Enter the number: \"))"
   ]
  },
  {
   "cell_type": "code",
   "execution_count": 42,
   "id": "d14104c9",
   "metadata": {},
   "outputs": [],
   "source": [
    "def summultiple3(d2):\n",
    "    sm1=0\n",
    "    for i in d2:\n",
    "        if int(i) in [3,6,9]:\n",
    "            sm1+=int(i)\n",
    "    print(f\"sum is {sm1}\")"
   ]
  },
  {
   "cell_type": "code",
   "execution_count": 43,
   "id": "8c74136d",
   "metadata": {},
   "outputs": [
    {
     "name": "stdout",
     "output_type": "stream",
     "text": [
      "Enter the number: 1234567899\n",
      "sum is 27\n"
     ]
    }
   ],
   "source": [
    "summultiple3(input(\"Enter the number: \"))"
   ]
  },
  {
   "cell_type": "code",
   "execution_count": 49,
   "id": "4d924e1a",
   "metadata": {
    "scrolled": false
   },
   "outputs": [
    {
     "name": "stdout",
     "output_type": "stream",
     "text": [
      "Enter the number76767676\n",
      "Number of digits in number is  8\n"
     ]
    }
   ],
   "source": [
    "print(\"Number of digits in number is \", len(input(\"Enter the number\")))#this is also the way of doing it without using f-strings"
   ]
  },
  {
   "cell_type": "code",
   "execution_count": 50,
   "id": "ae51c15d",
   "metadata": {},
   "outputs": [],
   "source": [
    "#number of digits\n",
    "def numdigits(d3):\n",
    "    sm1=0\n",
    "    for i in d3:\n",
    "        sm1+=1\n",
    "    print(\"number of digits is: \",sm1 )"
   ]
  },
  {
   "cell_type": "code",
   "execution_count": 56,
   "id": "a6cc59fc",
   "metadata": {
    "scrolled": false
   },
   "outputs": [
    {
     "name": "stdout",
     "output_type": "stream",
     "text": [
      "Enter the digits: 123456788\n",
      "number of digits is:  9\n"
     ]
    }
   ],
   "source": [
    "numdigits(input(\"Enter the digits: \"))"
   ]
  },
  {
   "cell_type": "code",
   "execution_count": 63,
   "id": "b3b4fd0b",
   "metadata": {},
   "outputs": [
    {
     "name": "stdout",
     "output_type": "stream",
     "text": [
      "Enter multiple values separated by space: 1,2,3\n",
      "1,2,3\n",
      "<class 'str'>\n",
      "['1', '2', '3']\n",
      "First value: 1\n",
      "Second value: 2\n",
      "Third value: 3\n"
     ]
    }
   ],
   "source": [
    "# Taking a single input with multiple values\n",
    "values = input(\"Enter multiple values separated by space: \")\n",
    "print(values)\n",
    "print(type(values))\n",
    "\n",
    "# Splitting the input string and assigning values\n",
    "x, y, z = values.split(',')\n",
    "print(values.split(','))\n",
    "#split keyword uses the given seperator to convert each value into seperate elements of the list\n",
    "# Printing the values\n",
    "print(\"First value:\", x)\n",
    "print(\"Second value:\", y)\n",
    "print(\"Third value:\", z)\n"
   ]
  },
  {
   "cell_type": "code",
   "execution_count": 64,
   "id": "19449f96",
   "metadata": {},
   "outputs": [],
   "source": [
    "def numbergivendigit(num,digit):\n",
    "    sm=0\n",
    "    for i in num:\n",
    "        if int(i)==int(digit):\n",
    "            sm+=1\n",
    "    print(\"number of specific digits are \",sm )"
   ]
  },
  {
   "cell_type": "code",
   "execution_count": 69,
   "id": "75ba93e5",
   "metadata": {
    "scrolled": true
   },
   "outputs": [
    {
     "name": "stdout",
     "output_type": "stream",
     "text": [
      "Enter the number and specific digit: 3345172323232323232323,3\n",
      "number of specific digits are  10\n"
     ]
    }
   ],
   "source": [
    "a,b=input(\"Enter the number and specific digit: \").split(',')\n",
    "numbergivendigit(a,b)"
   ]
  },
  {
   "cell_type": "code",
   "execution_count": 75,
   "id": "e8ae4724",
   "metadata": {},
   "outputs": [],
   "source": [
    "#if a number contains zero anywhere within it, except at the beginning\n",
    "def ducknumber(sympho):\n",
    "    is_duck=False\n",
    "    for l in sympho[1:]:\n",
    "        if int(l)==0:\n",
    "            is_duck=True\n",
    "            break;#the moment we enter inside loop and break statement is executed, we get out of for loop\n",
    "    if is_duck:\n",
    "        print(\"is a duck number\")\n",
    "    else:\n",
    "        print(\"Not a duck number\")\n",
    "            \n",
    "    "
   ]
  },
  {
   "cell_type": "code",
   "execution_count": 80,
   "id": "c53e0c3b",
   "metadata": {
    "scrolled": true
   },
   "outputs": [
    {
     "name": "stdout",
     "output_type": "stream",
     "text": [
      "Enter the number: 1099\n",
      "is a duck number\n"
     ]
    }
   ],
   "source": [
    "ducknumber(input(\"Enter the number: \"))"
   ]
  },
  {
   "cell_type": "code",
   "execution_count": 74,
   "id": "40f00d2b",
   "metadata": {},
   "outputs": [
    {
     "data": {
      "text/plain": [
       "'2345'"
      ]
     },
     "execution_count": 74,
     "metadata": {},
     "output_type": "execute_result"
    }
   ],
   "source": [
    "s=\"12345\"\n",
    "s[1:]"
   ]
  },
  {
   "cell_type": "code",
   "execution_count": 83,
   "id": "a8db176e",
   "metadata": {
    "scrolled": true
   },
   "outputs": [
    {
     "name": "stdout",
     "output_type": "stream",
     "text": [
      "Enter the number: 2099\n",
      "Duck number\n"
     ]
    }
   ],
   "source": [
    "#how to find a duck number in one line\n",
    "print(\"Duck number\" if \"0\" in input(\"Enter the number: \") else \"not duck\")\n",
    "#this is a unique way of doing your job in just one line , this type "
   ]
  },
  {
   "cell_type": "code",
   "execution_count": 1,
   "id": "ae4dfb84",
   "metadata": {},
   "outputs": [],
   "source": [
    "#Reverse a number\n",
    "def reverser(dun):\n",
    "    a=\"\"\n",
    "    for i in dun[::-1]:\n",
    "        a+=i\n",
    "    print(\"reversed number is\", a)"
   ]
  },
  {
   "cell_type": "code",
   "execution_count": 2,
   "id": "0d2a4838",
   "metadata": {},
   "outputs": [
    {
     "name": "stdout",
     "output_type": "stream",
     "text": [
      "Enter the number12345\n",
      "reversed number is 54321\n"
     ]
    }
   ],
   "source": [
    "reverser(input(\"Enter the number\"))"
   ]
  },
  {
   "cell_type": "code",
   "execution_count": 9,
   "id": "8896731d",
   "metadata": {},
   "outputs": [],
   "source": [
    "def reverser2(dun):\n",
    "    reversed=0\n",
    "    k=int(dun)\n",
    "    while k!=0:\n",
    "        digit=k%10#gives remainder\n",
    "        reversed=reversed*10+digit#in below case, first output will be 6, second will be 6*10+5=65 and continues\n",
    "        k=k//10#if 12345 is givesn, this will output 1234\n",
    "    print(\"reversed number is\",reversed)"
   ]
  },
  {
   "cell_type": "code",
   "execution_count": 11,
   "id": "11539d2f",
   "metadata": {
    "scrolled": true
   },
   "outputs": [
    {
     "name": "stdout",
     "output_type": "stream",
     "text": [
      "Enter the number:123456\n",
      "reversed number is 654321\n"
     ]
    }
   ],
   "source": [
    "reverser2(input(\"Enter the number:\"))"
   ]
  },
  {
   "cell_type": "code",
   "execution_count": null,
   "id": "e712bb83",
   "metadata": {},
   "outputs": [],
   "source": [
    "#revrse number in one line\n",
    "print(\"Reverse of the number is \",input(\"Enter the number \"))"
   ]
  },
  {
   "cell_type": "code",
   "execution_count": 18,
   "id": "34a415a8",
   "metadata": {},
   "outputs": [],
   "source": [
    "#palindrome\n",
    "def palin(de):\n",
    "    rev=\"\"\n",
    "    for i in de[::-1]:\n",
    "        rev=rev+i\n",
    "    print(rev)\n",
    "    if int(rev)==int(de):\n",
    "        print(\"Is a palindrome\")\n",
    "    else:\n",
    "        print(\"Not a palindrome\")"
   ]
  },
  {
   "cell_type": "code",
   "execution_count": 19,
   "id": "d4d7d008",
   "metadata": {
    "scrolled": true
   },
   "outputs": [
    {
     "name": "stdout",
     "output_type": "stream",
     "text": [
      "Enter the number: 123\n",
      "321\n",
      "Not a palindrome\n"
     ]
    }
   ],
   "source": [
    "palin(input(\"Enter the number: \"))"
   ]
  },
  {
   "cell_type": "code",
   "execution_count": 20,
   "id": "c3602008",
   "metadata": {},
   "outputs": [],
   "source": [
    "def palin1(de1):\n",
    "    revv=0\n",
    "    dss=int(de1)\n",
    "    while dss!=0:\n",
    "        sm=dss%10\n",
    "        revv=revv*10+sm\n",
    "        dss=dss//10\n",
    "    if int(revv)==int(de1):\n",
    "        print(\"Is a palindrome\")\n",
    "    else:\n",
    "        print(\"Not a palindrome\")\n",
    "        "
   ]
  },
  {
   "cell_type": "code",
   "execution_count": 23,
   "id": "6b8c7cc3",
   "metadata": {
    "scrolled": false
   },
   "outputs": [
    {
     "name": "stdout",
     "output_type": "stream",
     "text": [
      "Enter the number: 121\n",
      "Is a palindrome\n"
     ]
    }
   ],
   "source": [
    "palin1(input(\"Enter the number: \"))"
   ]
  },
  {
   "cell_type": "code",
   "execution_count": 26,
   "id": "aec684d0",
   "metadata": {
    "scrolled": false
   },
   "outputs": [
    {
     "name": "stdout",
     "output_type": "stream",
     "text": [
      "Enter the number: 123\n",
      "not palindrome\n"
     ]
    }
   ],
   "source": [
    "#palindrome in one line\n",
    "num=input(\"Enter the number: \")\n",
    "print(\"Palindrome\" if num==num[::-1] else \"not palindrome\")\n",
    "#num[::-1] is the shortest way to reverse a string in just one line"
   ]
  },
  {
   "cell_type": "code",
   "execution_count": 27,
   "id": "ab2f0c48",
   "metadata": {},
   "outputs": [],
   "source": [
    "#shortest way to check a palin\n",
    "def palin2(d2):\n",
    "    if d2==d2[::-1]:\n",
    "        print(\"Palin\")\n",
    "    else:\n",
    "        print(\"Not a palin\")"
   ]
  },
  {
   "cell_type": "code",
   "execution_count": 30,
   "id": "9210ee3b",
   "metadata": {
    "scrolled": false
   },
   "outputs": [
    {
     "name": "stdout",
     "output_type": "stream",
     "text": [
      "Enter the number: 123\n",
      "Not a palin\n"
     ]
    }
   ],
   "source": [
    "palin2(input(\"Enter the number: \"))"
   ]
  },
  {
   "cell_type": "code",
   "execution_count": 33,
   "id": "1dbfb12b",
   "metadata": {
    "scrolled": true
   },
   "outputs": [
    {
     "name": "stdout",
     "output_type": "stream",
     "text": [
      "Enter the number: 1234\n",
      "0b10011010010\n"
     ]
    }
   ],
   "source": [
    "#integer to binary\n",
    "print(bin(int(input(\"Enter the number: \"))))"
   ]
  },
  {
   "cell_type": "code",
   "execution_count": 34,
   "id": "d538aada",
   "metadata": {},
   "outputs": [
    {
     "name": "stdout",
     "output_type": "stream",
     "text": [
      "Enter the number1234\n",
      "10011010010\n"
     ]
    }
   ],
   "source": [
    "#integer to binary\n",
    "print(bin(int(input(\"Enter the number\")))[2:])"
   ]
  },
  {
   "cell_type": "code",
   "execution_count": 35,
   "id": "a9b9b7b5",
   "metadata": {},
   "outputs": [
    {
     "name": "stdout",
     "output_type": "stream",
     "text": [
      "Enter the number1234\n",
      "10011010010\n"
     ]
    }
   ],
   "source": [
    "#integer to binary\n",
    "print(bin(int(input(\"Enter the number\"))).replace(\"0b\",\"\"))#binary type object can also be replaced either by using slicing method\n",
    "#or using replace"
   ]
  },
  {
   "cell_type": "code",
   "execution_count": 52,
   "id": "3cef89b9",
   "metadata": {},
   "outputs": [],
   "source": [
    "def binary(sm):\n",
    "    ss=\"\"\n",
    "    l=int(sm)\n",
    "    while l!=0:\n",
    "        dig=l%2\n",
    "        ss+=str(dig)\n",
    "        l=l//2\n",
    "    print(\"binary part is\",ss[::-1])\n",
    "        \n",
    "        "
   ]
  },
  {
   "cell_type": "code",
   "execution_count": 53,
   "id": "972c439b",
   "metadata": {
    "scrolled": false
   },
   "outputs": [
    {
     "name": "stdout",
     "output_type": "stream",
     "text": [
      "Enter the number: 123\n",
      "binary part is 1111011\n"
     ]
    }
   ],
   "source": [
    "binary(input(\"Enter the number: \"))"
   ]
  },
  {
   "cell_type": "code",
   "execution_count": 54,
   "id": "e08cba2f",
   "metadata": {},
   "outputs": [],
   "source": [
    "def binary1(sm):\n",
    "    ss=[]\n",
    "    l=int(sm)\n",
    "    while l!=0:\n",
    "        ss.append(l%2)\n",
    "        l=l//2\n",
    "    ss.reverse()#reverses elements of list\n",
    "    print(ss)\n",
    "    for i in range(len(ss)):#loops across the list\n",
    "        print(ss[i],end=\"\")"
   ]
  },
  {
   "cell_type": "code",
   "execution_count": 55,
   "id": "762a5bf2",
   "metadata": {},
   "outputs": [
    {
     "name": "stdout",
     "output_type": "stream",
     "text": [
      "Enter the number: 123\n",
      "[1, 1, 1, 1, 0, 1, 1]\n",
      "1111011"
     ]
    }
   ],
   "source": [
    "binary1(input(\"Enter the number: \"))"
   ]
  },
  {
   "cell_type": "code",
   "execution_count": 73,
   "id": "4c436663",
   "metadata": {},
   "outputs": [],
   "source": [
    "#fibonacci\n",
    "def fibonacci(sm):\n",
    "    ss=[]\n",
    "    a=0\n",
    "    b=1\n",
    "    l=int(sm)\n",
    "    ss.append(a)\n",
    "    ss.append(b)\n",
    "    for i in range(l-2):\n",
    "        ss.append(a+b)\n",
    "        c=a+b\n",
    "        a=b\n",
    "        b=c\n",
    "    for z in range(len(ss)):\n",
    "        print(ss[z],end=\" \")\n",
    "        #this is one way of ensuring that they value doesnot get printed in the newline"
   ]
  },
  {
   "cell_type": "code",
   "execution_count": 74,
   "id": "019540c1",
   "metadata": {
    "scrolled": false
   },
   "outputs": [
    {
     "name": "stdout",
     "output_type": "stream",
     "text": [
      "Enter the range: 10\n",
      "0 1 1 2 3 5 8 13 21 34 "
     ]
    }
   ],
   "source": [
    "fibonacci(input(\"Enter the range: \"))"
   ]
  },
  {
   "cell_type": "code",
   "execution_count": 68,
   "id": "d1434b33",
   "metadata": {
    "scrolled": true
   },
   "outputs": [
    {
     "name": "stdout",
     "output_type": "stream",
     "text": [
      "0 1 2 3 4 5 6 7 8 9 "
     ]
    }
   ],
   "source": [
    "num=10\n",
    "for i in range(num):\n",
    "    print(i,end=\" \")\n",
    "    #10 numbers get printed from 0 to 9"
   ]
  },
  {
   "cell_type": "code",
   "execution_count": 69,
   "id": "28a7e6e2",
   "metadata": {},
   "outputs": [
    {
     "name": "stdout",
     "output_type": "stream",
     "text": [
      "2 3 4 5 6 7 8 9 "
     ]
    }
   ],
   "source": [
    "num=10\n",
    "for i in range(2,num):\n",
    "    print(i,end=\" \")\n",
    "    #8 numbers still gets printed from 2 to 9, 0 and 1 gets omitted"
   ]
  },
  {
   "cell_type": "code",
   "execution_count": 5,
   "id": "945a8e6d",
   "metadata": {},
   "outputs": [],
   "source": [
    "def fibbonaci1(n):\n",
    "    if n==0 or n==1:\n",
    "        return n\n",
    "    elif n==-1:\n",
    "        return 0\n",
    "    else:\n",
    "        return fibbonaci1(n-1)+fibbonaci1(n-2)\n",
    "def fibbo2(nm):\n",
    "    om=int(nm)\n",
    "    print(fibbonaci1(om-1),end=\" \")"
   ]
  },
  {
   "cell_type": "code",
   "execution_count": 9,
   "id": "6f6def49",
   "metadata": {
    "scrolled": true
   },
   "outputs": [
    {
     "name": "stdout",
     "output_type": "stream",
     "text": [
      "Enter the range: 12\n",
      "89 "
     ]
    }
   ],
   "source": [
    "fibbo2(input(\"Enter the range: \"))"
   ]
  },
  {
   "cell_type": "code",
   "execution_count": null,
   "id": "45f3c8fe",
   "metadata": {},
   "outputs": [],
   "source": [
    "#fibonacci series\n",
    "fib(0)    fib(1)     fib(2)                  fib(3)               fib(4)               fib(5)      \n",
    "0         1          1                       2                    3                    5      \n",
    "fib(0)=0  fib(1)=1   fib(2)=fib(1)+fib(0)  fib(3)=fib(2)+fib(1)  fib(4)=fib(3)+fib(2)  fib(5)=fib(4)+fib(3)\n",
    "#The above programme is based on this principle"
   ]
  },
  {
   "cell_type": "code",
   "execution_count": 13,
   "id": "6730986a",
   "metadata": {},
   "outputs": [],
   "source": [
    "#wrong niven numbers are number which can divide the sum of given digits leaving 0 as remainder\n",
    "def niven(sm,num):\n",
    "    s=0\n",
    "    lm=int(sm)\n",
    "    num1=int(num)\n",
    "    while lm!=0:\n",
    "        dig=lm%10\n",
    "        s+=dig\n",
    "        lm=lm//10\n",
    "    if s%num1==0:\n",
    "        print(\"It is niven number\")\n",
    "    else:\n",
    "        print(\"It is not a niven number\")\n",
    "        "
   ]
  },
  {
   "cell_type": "code",
   "execution_count": 17,
   "id": "a06c79c7",
   "metadata": {
    "scrolled": true
   },
   "outputs": [
    {
     "name": "stdout",
     "output_type": "stream",
     "text": [
      "Enter the number: 77,7\n",
      "It is niven number\n"
     ]
    }
   ],
   "source": [
    "a,b=input(\"Enter the number: \").split(',')\n",
    "niven(a,b)"
   ]
  },
  {
   "cell_type": "code",
   "execution_count": 22,
   "id": "4f4e392d",
   "metadata": {},
   "outputs": [],
   "source": [
    "#right niven number\n",
    "def niven1(as1):\n",
    "    s=0\n",
    "    lm=int(as1)\n",
    "    lm1=int(as1)\n",
    "    while lm!=0:\n",
    "        dig=lm%10\n",
    "        s+=dig\n",
    "        lm=lm//10\n",
    "    if lm1%s==0:\n",
    "        print(\"It is niven number\")\n",
    "    else:\n",
    "        print(\"It is not a niven number\")"
   ]
  },
  {
   "cell_type": "code",
   "execution_count": 29,
   "id": "02066c0a",
   "metadata": {
    "scrolled": true
   },
   "outputs": [
    {
     "name": "stdout",
     "output_type": "stream",
     "text": [
      "Enter the number: 14\n",
      "It is not a niven number\n"
     ]
    }
   ],
   "source": [
    "a=input(\"Enter the number: \")\n",
    "niven1(a)"
   ]
  },
  {
   "cell_type": "code",
   "execution_count": 30,
   "id": "6c155f94",
   "metadata": {},
   "outputs": [],
   "source": [
    "def niven2(as2):\n",
    "    s=0\n",
    "    lm=int(as2)\n",
    "    lm1=int(as2)\n",
    "    while lm!=0:\n",
    "        dig=lm%10\n",
    "        s+=dig\n",
    "        lm=lm//10\n",
    "    print(\"Niven number\" if lm1%s==0 else \"Not niven number\")"
   ]
  },
  {
   "cell_type": "code",
   "execution_count": 41,
   "id": "56f6e96e",
   "metadata": {
    "scrolled": false
   },
   "outputs": [
    {
     "name": "stdout",
     "output_type": "stream",
     "text": [
      "Enter the number: 40\n",
      "Niven number\n"
     ]
    }
   ],
   "source": [
    "a=input(\"Enter the number: \")\n",
    "niven2(a)"
   ]
  },
  {
   "cell_type": "code",
   "execution_count": 44,
   "id": "3cdf9300",
   "metadata": {},
   "outputs": [],
   "source": [
    "def special2(as3):\n",
    "    s1=0\n",
    "    s2=1\n",
    "    s3=0\n",
    "    num=int(as3)\n",
    "    num1=int(as3)\n",
    "    while num!=0:\n",
    "        dig=num%10\n",
    "        s1+=dig\n",
    "        s2=s2*dig\n",
    "        num=num//10\n",
    "    s3=s1+s2\n",
    "    print(\"Special number\" if s3==num1 else \"not special number\")"
   ]
  },
  {
   "cell_type": "code",
   "execution_count": 48,
   "id": "c151385b",
   "metadata": {
    "scrolled": true
   },
   "outputs": [
    {
     "name": "stdout",
     "output_type": "stream",
     "text": [
      "Enter the number to be checked: 61\n",
      "not special number\n"
     ]
    }
   ],
   "source": [
    "special2(input(\"Enter the number to be checked: \"))"
   ]
  },
  {
   "cell_type": "code",
   "execution_count": 49,
   "id": "b6809064",
   "metadata": {},
   "outputs": [],
   "source": [
    "#this is another way of doing this for 2 digit numbers \n",
    "def special3(as4):\n",
    "    amb=int(as4)\n",
    "    digit1=amb%10\n",
    "    digit2=amb//10\n",
    "    sambhu=(digit1*digit2)+(digit1+digit2)\n",
    "    print(\"special number\" if sambhu==amb else \"not special\" )"
   ]
  },
  {
   "cell_type": "code",
   "execution_count": 53,
   "id": "5de065e4",
   "metadata": {
    "scrolled": true
   },
   "outputs": [
    {
     "name": "stdout",
     "output_type": "stream",
     "text": [
      "Enter the number to be checked: 61\n",
      "not special\n"
     ]
    }
   ],
   "source": [
    "special3(input(\"Enter the number to be checked: \"))"
   ]
  },
  {
   "cell_type": "code",
   "execution_count": 75,
   "id": "ba1056fa",
   "metadata": {},
   "outputs": [],
   "source": [
    "#prime number\n",
    "def prime4(num1,num2):\n",
    "    a=int(num1)\n",
    "    b=int(num2)\n",
    "    c=b//2\n",
    "    kmb=[]\n",
    "    for i in range(a,b):\n",
    "        for d in range((i//2)+1):\n",
    "            if d==0:\n",
    "                break;\n",
    "            elif i%d==0 and d!=1:\n",
    "                break\n",
    "            else:\n",
    "                kmb.append(i)\n",
    "        print(\"kj\")\n",
    "    print(kmb)\n",
    "    for z in range(len(kmb)):\n",
    "        print(kmb[z],end=\" \")\n",
    "        \n",
    "        "
   ]
  },
  {
   "cell_type": "code",
   "execution_count": 76,
   "id": "57974d69",
   "metadata": {
    "scrolled": true
   },
   "outputs": [
    {
     "name": "stdout",
     "output_type": "stream",
     "text": [
      "Enter the range: 1,19\n",
      "kj\n",
      "kj\n",
      "kj\n",
      "kj\n",
      "kj\n",
      "kj\n",
      "kj\n",
      "kj\n",
      "kj\n",
      "kj\n",
      "kj\n",
      "kj\n",
      "kj\n",
      "kj\n",
      "kj\n",
      "kj\n",
      "kj\n",
      "kj\n",
      "[]\n"
     ]
    }
   ],
   "source": [
    "a,b=input(\"Enter the range: \").split(',')\n",
    "prime4(a,b)"
   ]
  },
  {
   "cell_type": "code",
   "execution_count": 1,
   "id": "2805036f",
   "metadata": {},
   "outputs": [
    {
     "name": "stdout",
     "output_type": "stream",
     "text": [
      "5\n",
      "2\n"
     ]
    }
   ],
   "source": [
    "for j in range(6):\n",
    "    if j==5:\n",
    "        print(5)\n",
    "else:\n",
    "    print(2)"
   ]
  },
  {
   "cell_type": "code",
   "execution_count": 4,
   "id": "af330591",
   "metadata": {},
   "outputs": [],
   "source": [
    "for j in range(6):\n",
    "    if j==5:\n",
    "        break\n",
    "else:\n",
    "    print(2)"
   ]
  },
  {
   "cell_type": "code",
   "execution_count": 3,
   "id": "2caec795",
   "metadata": {},
   "outputs": [
    {
     "name": "stdout",
     "output_type": "stream",
     "text": [
      "2\n"
     ]
    }
   ],
   "source": [
    "for j in range(6):\n",
    "    if j==7:\n",
    "        break\n",
    "else:\n",
    "    print(2)"
   ]
  },
  {
   "cell_type": "code",
   "execution_count": 5,
   "id": "2cad27cf",
   "metadata": {},
   "outputs": [
    {
     "name": "stdout",
     "output_type": "stream",
     "text": [
      "0\n",
      "1\n",
      "2\n",
      "Outside the loop\n"
     ]
    }
   ],
   "source": [
    "for i in range(5):\n",
    "    if i == 3:\n",
    "        break\n",
    "    print(i)\n",
    "else:\n",
    "    print(\"Loop completed without encountering break.\")\n",
    "print(\"Outside the loop\")\n",
    "#so as we can see, after the execution of break statement even the else clause immediately outside for loop is skipped"
   ]
  },
  {
   "cell_type": "code",
   "execution_count": 14,
   "id": "27eaff6a",
   "metadata": {},
   "outputs": [],
   "source": [
    "def primer(num,num2):\n",
    "    num1=int(num)\n",
    "    num3=int(num2)\n",
    "    for j in range(num1,num3+1):\n",
    "        if j>1:\n",
    "            for i in range(2,j):\n",
    "                if j%i==0:\n",
    "                    break\n",
    "            else:\n",
    "                print(j,end=\" \")\n",
    "#only if for loop is sucessfully executed without any break statement being executed with the outer else condition be executed, else\n",
    "#it wont be executed, we take j>1 as if we remove that then for i in range(2,1) break statement won't be executed and else part too will be\n",
    "#printed"
   ]
  },
  {
   "cell_type": "code",
   "execution_count": 15,
   "id": "87f95603",
   "metadata": {},
   "outputs": [
    {
     "name": "stdout",
     "output_type": "stream",
     "text": [
      "Enter the ranges: 1,19\n",
      "2 3 5 7 11 13 17 19 "
     ]
    }
   ],
   "source": [
    "a,b=input(\"Enter the ranges: \").split(',')\n",
    "primer(a,b)"
   ]
  },
  {
   "cell_type": "code",
   "execution_count": 16,
   "id": "3ff0af1d",
   "metadata": {},
   "outputs": [],
   "source": [
    "for i in range(2,2):\n",
    "    print(\"k\")\n",
    "#The range function generates a sequence starting from start value but not including stop value, since start value is 2 and stop value is\n",
    "#true as well there are no numbers in the loop to iterate over"
   ]
  },
  {
   "cell_type": "code",
   "execution_count": 17,
   "id": "7af439cb",
   "metadata": {},
   "outputs": [],
   "source": [
    "def primer1(num,num2):\n",
    "    num1=int(num)\n",
    "    num3=int(num2)\n",
    "    for j in range(num1,num3+1):\n",
    "            for i in range(2,j):\n",
    "                if j%i==0:\n",
    "                    break\n",
    "            else:\n",
    "                print(j,end=\" \")"
   ]
  },
  {
   "cell_type": "code",
   "execution_count": 18,
   "id": "bcc031ee",
   "metadata": {},
   "outputs": [
    {
     "name": "stdout",
     "output_type": "stream",
     "text": [
      "Enter the ranges: 1,19\n",
      "1 2 3 5 7 11 13 17 19 "
     ]
    }
   ],
   "source": [
    "a,b=input(\"Enter the ranges: \").split(',')\n",
    "primer1(a,b)"
   ]
  },
  {
   "cell_type": "code",
   "execution_count": 23,
   "id": "e56c73b8",
   "metadata": {},
   "outputs": [],
   "source": [
    "def perfectsquare(num1):\n",
    "    num2=int(num1)\n",
    "    sum=0\n",
    "    for j in range(1,num2):\n",
    "        if num2%j==0:\n",
    "            sum+=j\n",
    "    if sum==num2:\n",
    "        print(\"perfect square\")\n",
    "    else:\n",
    "        print(\"Not perfect square\")"
   ]
  },
  {
   "cell_type": "code",
   "execution_count": 26,
   "id": "408f2dd6",
   "metadata": {
    "scrolled": true
   },
   "outputs": [
    {
     "name": "stdout",
     "output_type": "stream",
     "text": [
      "Enter the number: 29\n",
      "Not perfect square\n"
     ]
    }
   ],
   "source": [
    "perfectsquare(input(\"Enter the number: \"))"
   ]
  },
  {
   "cell_type": "code",
   "execution_count": 27,
   "id": "aab1be63",
   "metadata": {},
   "outputs": [
    {
     "name": "stdout",
     "output_type": "stream",
     "text": [
      "2\n"
     ]
    }
   ],
   "source": [
    "for j in range(6):\n",
    "    if j==7:\n",
    "        print(5)\n",
    "else:\n",
    "    print(2)\n",
    "#if we use break in if clause here and if j==5 then break will get executed and the else part will be sqipped as wel"
   ]
  },
  {
   "cell_type": "code",
   "execution_count": 28,
   "id": "c9fdf99a",
   "metadata": {},
   "outputs": [
    {
     "name": "stdout",
     "output_type": "stream",
     "text": [
      "5\n",
      "2\n"
     ]
    }
   ],
   "source": [
    "for j in range(6):\n",
    "    if j==5:\n",
    "        print(5)\n",
    "else:\n",
    "    print(2)"
   ]
  },
  {
   "cell_type": "code",
   "execution_count": 31,
   "id": "d1e5a504",
   "metadata": {},
   "outputs": [],
   "source": [
    "def perfectsquare1(num):\n",
    "    num1=int(num)\n",
    "    sum=0\n",
    "    for i in range(1,num1):\n",
    "        if num1%i==0:\n",
    "            sum+=i\n",
    "    return sum==num1"
   ]
  },
  {
   "cell_type": "code",
   "execution_count": 34,
   "id": "4f2db96d",
   "metadata": {
    "scrolled": true
   },
   "outputs": [
    {
     "name": "stdout",
     "output_type": "stream",
     "text": [
      "Enter the number: 29\n",
      "Not perfect square\n"
     ]
    }
   ],
   "source": [
    "a=input(\"Enter the number: \")\n",
    "print(\"Perfect square\" if perfectsquare1(a) else \"Not perfect square\")"
   ]
  },
  {
   "cell_type": "code",
   "execution_count": 37,
   "id": "4d075ebf",
   "metadata": {},
   "outputs": [],
   "source": [
    "def special2digit():\n",
    "    k=[]\n",
    "    for i in range(10,100):\n",
    "        a=i%10\n",
    "        b=i//10\n",
    "        mn=(a*b)+(a+b)\n",
    "        if i==mn:\n",
    "            k.append(i)\n",
    "    for j in range(len(k)):\n",
    "        print(k[j],end=\" \")\n",
    "        \n",
    "    "
   ]
  },
  {
   "cell_type": "code",
   "execution_count": 38,
   "id": "fd9c4bdb",
   "metadata": {},
   "outputs": [
    {
     "name": "stdout",
     "output_type": "stream",
     "text": [
      "19 29 39 49 59 69 79 89 99 "
     ]
    }
   ],
   "source": [
    "special2digit()"
   ]
  },
  {
   "cell_type": "code",
   "execution_count": null,
   "id": "b868b22d",
   "metadata": {},
   "outputs": [],
   "source": [
    "#Lesson 2 on strings"
   ]
  },
  {
   "cell_type": "code",
   "execution_count": 40,
   "id": "3bc5be77",
   "metadata": {},
   "outputs": [
    {
     "name": "stdout",
     "output_type": "stream",
     "text": [
      "atnamuna"
     ]
    }
   ],
   "source": [
    "a=\"hanumanta\"\n",
    "for j in range(len(a)-1,0,-1):\n",
    "    print(a[j],end=\"\")\n",
    "#as you can see here when you give 0 as end limit, last item as first limit and you are supposed to decrement it each time from\n",
    "#the end then it stops just before 0 at 1, so in order to take it till the end we put -1 as the end point"
   ]
  },
  {
   "cell_type": "code",
   "execution_count": 41,
   "id": "60566276",
   "metadata": {},
   "outputs": [
    {
     "name": "stdout",
     "output_type": "stream",
     "text": [
      "atnamunah\n"
     ]
    }
   ],
   "source": [
    "a=\"hanumanta\"\n",
    "print(a[::-1])"
   ]
  },
  {
   "cell_type": "code",
   "execution_count": 42,
   "id": "be1a621a",
   "metadata": {},
   "outputs": [],
   "source": [
    "def reversestring(amb):\n",
    "    for j in range(len(amb)-1,-1,-1):\n",
    "        print(amb[j],end=\"\")"
   ]
  },
  {
   "cell_type": "code",
   "execution_count": 43,
   "id": "22f9dd5a",
   "metadata": {},
   "outputs": [
    {
     "name": "stdout",
     "output_type": "stream",
     "text": [
      "Enter the string: dhoni\n",
      "inohd"
     ]
    }
   ],
   "source": [
    "reversestring(input(\"Enter the string: \"))"
   ]
  },
  {
   "cell_type": "code",
   "execution_count": 45,
   "id": "a712153b",
   "metadata": {},
   "outputs": [
    {
     "name": "stdout",
     "output_type": "stream",
     "text": [
      "Enter the string: khana\n"
     ]
    },
    {
     "data": {
      "text/plain": [
       "'anahk'"
      ]
     },
     "execution_count": 45,
     "metadata": {},
     "output_type": "execute_result"
    }
   ],
   "source": [
    "#second way of reversing string\n",
    "input(\"Enter the string: \")[::-1]"
   ]
  },
  {
   "cell_type": "code",
   "execution_count": 46,
   "id": "c23a3222",
   "metadata": {},
   "outputs": [],
   "source": [
    "def stringpalinchecker(ambu):\n",
    "    print(\"palindrome string\" if ambu==ambu[::-1] else \"not palindrome string\")"
   ]
  },
  {
   "cell_type": "code",
   "execution_count": 48,
   "id": "bc928459",
   "metadata": {
    "scrolled": false
   },
   "outputs": [
    {
     "name": "stdout",
     "output_type": "stream",
     "text": [
      "Enter string: nallu\n",
      "not palindrome string\n"
     ]
    }
   ],
   "source": [
    "stringpalinchecker(input(\"Enter string: \"))"
   ]
  },
  {
   "cell_type": "code",
   "execution_count": 51,
   "id": "0cb0bd17",
   "metadata": {},
   "outputs": [],
   "source": [
    "#removing vowels from a given string\n",
    "def vowelremover(amb):\n",
    "    ab=\"\"\n",
    "    for z in amb:\n",
    "        if z not in ('a','e','i','o','u'):\n",
    "            ab+=z\n",
    "    print(ab)"
   ]
  },
  {
   "cell_type": "code",
   "execution_count": 53,
   "id": "68e9bb75",
   "metadata": {
    "scrolled": true
   },
   "outputs": [
    {
     "name": "stdout",
     "output_type": "stream",
     "text": [
      "Enter the string: hello how are you\n",
      "hll hw r y\n"
     ]
    }
   ],
   "source": [
    "vowelremover(input(\"Enter the string: \"))"
   ]
  },
  {
   "cell_type": "code",
   "execution_count": 55,
   "id": "79be1e9d",
   "metadata": {
    "scrolled": true
   },
   "outputs": [
    {
     "name": "stdout",
     "output_type": "stream",
     "text": [
      "Enter the string: hello how are you\n",
      "hll hw r y\n"
     ]
    }
   ],
   "source": [
    "#we can also remove vowels using regular expressions \n",
    "import re\n",
    "print(re.sub(\"[aeiou]\",\"\",input(\"Enter the string: \")))\n",
    "#square bracket here means, any one out of a,e,i,o,u would be fine, if any of the matches out of a,e,i,o,u is found out then it \n",
    "#is replaced with a blank \"\" "
   ]
  },
  {
   "cell_type": "code",
   "execution_count": 56,
   "id": "bab8b503",
   "metadata": {},
   "outputs": [],
   "source": [
    "def vowelconscounter(amb):\n",
    "    vw=0\n",
    "    cn=0\n",
    "    for z in amb:\n",
    "        if z in ('a','e','i','o','u'):\n",
    "            vw+=1\n",
    "        else:\n",
    "            cn+=1\n",
    "    print(\"Number of vowels is \",vw,\" and number of consonants is \",cn)"
   ]
  },
  {
   "cell_type": "code",
   "execution_count": 60,
   "id": "747c6e17",
   "metadata": {
    "scrolled": true
   },
   "outputs": [
    {
     "name": "stdout",
     "output_type": "stream",
     "text": [
      "Enter the string: hemlata\n",
      "Number of vowels is  3  and number of consonants is  4\n"
     ]
    }
   ],
   "source": [
    "vowelconscounter(input(\"Enter the string: \"))"
   ]
  },
  {
   "cell_type": "code",
   "execution_count": 61,
   "id": "98f9f6f3",
   "metadata": {},
   "outputs": [
    {
     "name": "stdout",
     "output_type": "stream",
     "text": [
      "['aa']\n"
     ]
    }
   ],
   "source": [
    "l=[]\n",
    "l.append(\"a\"*2)\n",
    "print(l)"
   ]
  },
  {
   "cell_type": "code",
   "execution_count": 62,
   "id": "64a11156",
   "metadata": {},
   "outputs": [],
   "source": [
    "#duplicates\n",
    "def duplicate(amb):\n",
    "    l=[]\n",
    "    for j in amb:\n",
    "        l.append(j*2)\n",
    "    print(\"\".join(l))"
   ]
  },
  {
   "cell_type": "code",
   "execution_count": 63,
   "id": "dabc9ff3",
   "metadata": {},
   "outputs": [
    {
     "name": "stdout",
     "output_type": "stream",
     "text": [
      "Enter the word: ricky\n",
      "rriicckkyy\n"
     ]
    }
   ],
   "source": [
    "duplicate(input(\"Enter the word: \"))"
   ]
  },
  {
   "cell_type": "code",
   "execution_count": 70,
   "id": "f4f63079",
   "metadata": {},
   "outputs": [],
   "source": [
    "def wordletterscounter(amb):\n",
    "    w=0\n",
    "    l=0\n",
    "    for j in amb:\n",
    "        if j==\" \" or j==\"\\t\":\n",
    "            w+=1\n",
    "        else:\n",
    "            l=l+1\n",
    "    print(\"word count \",w+1,\" letter count \",l)"
   ]
  },
  {
   "cell_type": "code",
   "execution_count": 69,
   "id": "d3f65ec4",
   "metadata": {},
   "outputs": [
    {
     "name": "stdout",
     "output_type": "stream",
     "text": [
      "cham cham9\n"
     ]
    }
   ],
   "source": [
    "c=\"cham cham\"\n",
    "s=0\n",
    "for j in c:\n",
    "    s=s+1\n",
    "    print(j,end=\"\")\n",
    "print(s)"
   ]
  },
  {
   "cell_type": "code",
   "execution_count": 74,
   "id": "a30ff94c",
   "metadata": {
    "scrolled": true
   },
   "outputs": [
    {
     "name": "stdout",
     "output_type": "stream",
     "text": [
      "Enter sentence: who  are you\n",
      "word count  4  letter count  9\n"
     ]
    }
   ],
   "source": [
    "wordletterscounter(input(\"Enter sentence: \"))"
   ]
  },
  {
   "cell_type": "code",
   "execution_count": 72,
   "id": "405e9489",
   "metadata": {},
   "outputs": [],
   "source": [
    "def wordhoax(amb):\n",
    "    w=0\n",
    "    l=0\n",
    "    for j in amb:\n",
    "        l+=1\n",
    "        if j==\" \" or j==\"\\t\":\n",
    "            w=w+1\n",
    "    print(\"word count \",w+1, \"letter count \",l)"
   ]
  },
  {
   "cell_type": "code",
   "execution_count": 73,
   "id": "679363e7",
   "metadata": {},
   "outputs": [
    {
     "name": "stdout",
     "output_type": "stream",
     "text": [
      "Enter the sentence: who are you\n",
      "word count  3 letter count  11\n"
     ]
    }
   ],
   "source": [
    "wordhoax(input(\"Enter the sentence: \"))"
   ]
  },
  {
   "cell_type": "code",
   "execution_count": 75,
   "id": "a37acd32",
   "metadata": {},
   "outputs": [],
   "source": [
    "import re\n",
    "def wordletterscounter1(amb):\n",
    "    w=0\n",
    "    l=0\n",
    "    for j in amb:\n",
    "        if re.search(\"[\\s]*\",j)"
   ]
  },
  {
   "cell_type": "code",
   "execution_count": 76,
   "id": "bcc2a274",
   "metadata": {},
   "outputs": [
    {
     "name": "stdout",
     "output_type": "stream",
     "text": [
      "Enter sentence: who are you\n",
      "word count  1  letter count  11\n"
     ]
    }
   ],
   "source": [
    "wordletterscounter1(input(\"Enter sentence: \"))"
   ]
  },
  {
   "cell_type": "code",
   "execution_count": null,
   "id": "7fd1bc4a",
   "metadata": {},
   "outputs": [],
   "source": [
    "import re\n",
    "def wlc1(amb):\n",
    "    words=re.findall(\"[\\s]*\")"
   ]
  },
  {
   "cell_type": "code",
   "execution_count": 81,
   "id": "72af6da4",
   "metadata": {
    "scrolled": true
   },
   "outputs": [
    {
     "name": "stdout",
     "output_type": "stream",
     "text": [
      "3\n"
     ]
    }
   ],
   "source": [
    "words=re.findall(\"[\\s*]\",\"who  are you\")\n",
    "print(len(words))"
   ]
  },
  {
   "cell_type": "code",
   "execution_count": 99,
   "id": "0431a3cd",
   "metadata": {
    "scrolled": false
   },
   "outputs": [
    {
     "name": "stdout",
     "output_type": "stream",
     "text": [
      "['who', '', 'are', '', 'you', '']\n",
      "6\n"
     ]
    }
   ],
   "source": [
    "letters=re.findall(\"\\w*\",\"who are you\")\n",
    "print(letters)\n",
    "print(len(letters))\n",
    "#new\n",
    "#\"\\w*\" means 0 or more alphanumerics or underscore, so \"who\" will form 1 group, ' ' will also form a group as it represents lack of\n",
    "#any word character, lastly after u of \"you\" there is no word character so we get on item there as well as blank in our list\n",
    "#old\n",
    "#\"\\w*\" means atleast 1 or more word character, these will have 6 items 'who','are','you',''"
   ]
  },
  {
   "cell_type": "code",
   "execution_count": 95,
   "id": "4e658d3e",
   "metadata": {},
   "outputs": [
    {
     "name": "stdout",
     "output_type": "stream",
     "text": [
      "['w', 'h', 'o', 'a', 'r', 'e', 'y', 'o', 'u']\n",
      "9\n"
     ]
    }
   ],
   "source": [
    "letters=re.findall(\"\\w\",\"who are you\")\n",
    "print(letters)\n",
    "print(len(letters))\n",
    "#\"\\w\" means 1 word character(alphanumeric and underscore), hence w h o a r e y o u all become the members of the list"
   ]
  },
  {
   "cell_type": "code",
   "execution_count": 96,
   "id": "26c0c1c5",
   "metadata": {},
   "outputs": [
    {
     "name": "stdout",
     "output_type": "stream",
     "text": [
      "['who', 'are', 'you']\n",
      "3\n"
     ]
    }
   ],
   "source": [
    "letters=re.findall(\"\\w+\",\"who are you\")\n",
    "print(letters)\n",
    "print(len(letters))\n",
    "#\"\\w+\" means atleast one or more word character which in this would amount to 3 as 3 items match...who,are and you "
   ]
  },
  {
   "cell_type": "code",
   "execution_count": 101,
   "id": "ce087b31",
   "metadata": {},
   "outputs": [
    {
     "name": "stdout",
     "output_type": "stream",
     "text": [
      "['', '', '', ' ', '', '', '', ' ', '', '', '', '']\n",
      "12\n"
     ]
    }
   ],
   "source": [
    "letters=re.findall(\"\\s*\",\"who are you\")\n",
    "print(letters)\n",
    "print(len(letters))\n",
    "#new\n",
    "#\"\\s*\" means 0 or more white space, 0 white space means no whitespace, so w,h,o,1 empty space,a(no whitespace),r,e,1 empty space\n",
    "#,y,o,u and lastly no empty space....\n",
    "#old\n",
    "#\"\\s*\" means empty string or more, so this will have 9 items as w(s)h(s)o(1white space)w(s)h(s)o(1white space)y(s)o(s)u(s)\n",
    "#hence 9 spaces in total, an empty space will always be counted between 2 letters of a word and at the end of the sentence, "
   ]
  },
  {
   "cell_type": "code",
   "execution_count": 2,
   "id": "650d755d",
   "metadata": {
    "scrolled": false
   },
   "outputs": [
    {
     "name": "stdout",
     "output_type": "stream",
     "text": [
      "[' ', ' ']\n",
      "2\n"
     ]
    }
   ],
   "source": [
    "import re\n",
    "letters=re.findall(\"\\s\",\"who are you\")\n",
    "print(letters)\n",
    "print(len(letters))\n",
    "#\"\\s\" means only 1 space hence ' ' this will be taken as 1 item of list and if we have 2 white-spaces side by side then the number of\n",
    "#items is 3"
   ]
  },
  {
   "cell_type": "code",
   "execution_count": 106,
   "id": "887f4c46",
   "metadata": {},
   "outputs": [
    {
     "name": "stdout",
     "output_type": "stream",
     "text": [
      "['  ', ' ']\n",
      "2\n"
     ]
    }
   ],
   "source": [
    "letters=re.findall(\"\\s+\",\"who  are you\")\n",
    "print(letters)\n",
    "print(len(letters))\n",
    "#\"\\s+\" means atleast 1 or more space hence ' ' this space or '  ' this space or '   ' space will be taken as 1 item, hence total items\n",
    "#are 2 in this case"
   ]
  },
  {
   "cell_type": "code",
   "execution_count": 5,
   "id": "98394fb6",
   "metadata": {},
   "outputs": [],
   "source": [
    "import re\n",
    "def wordlettercounter(amb):\n",
    "    words=re.findall(\"\\w+\",amb)\n",
    "    letters=re.findall(\"\\w\",amb)\n",
    "    print(\"number of words are \",len(words),\" and number of letters are \",len(letters))"
   ]
  },
  {
   "cell_type": "code",
   "execution_count": 6,
   "id": "fe409bb3",
   "metadata": {},
   "outputs": [
    {
     "name": "stdout",
     "output_type": "stream",
     "text": [
      "Enter the sentence: who are you\n",
      "number of words are  3  and number of letters are  9\n"
     ]
    }
   ],
   "source": [
    "wordlettercounter(input(\"Enter the sentence: \"))"
   ]
  },
  {
   "cell_type": "code",
   "execution_count": 3,
   "id": "959ac8a8",
   "metadata": {},
   "outputs": [],
   "source": [
    "# character remover from string\n",
    "def characremover(ab,ab1):\n",
    "    slen=len(ab)\n",
    "    i=0\n",
    "    output=\"\"\n",
    "    while i<slen:\n",
    "        if ab[i]==ab1:\n",
    "            output=ab[0:i]+ab[i+1:slen]\n",
    "            break\n",
    "        i+=1\n",
    "    print(\"character index is \",i)\n",
    "    print(\"New string is \", output)\n",
    " #whether we put i+=1 in else part or without the else part, it is the same thing, when break statement is executed control comes\n",
    "#out of the while loop and print statement gets executed "
   ]
  },
  {
   "cell_type": "code",
   "execution_count": 4,
   "id": "c933d8c2",
   "metadata": {},
   "outputs": [
    {
     "name": "stdout",
     "output_type": "stream",
     "text": [
      "Enter the sentence mahendra\n",
      "Enter the word d\n",
      "character index is  5\n",
      "New string is  mahenra\n"
     ]
    }
   ],
   "source": [
    "a=input(\"Enter the sentence \")\n",
    "b=input(\"Enter the word \")\n",
    "characremover(a,b)"
   ]
  },
  {
   "cell_type": "code",
   "execution_count": 1,
   "id": "b94e5ed3",
   "metadata": {},
   "outputs": [
    {
     "name": "stdout",
     "output_type": "stream",
     "text": [
      "2\n"
     ]
    }
   ],
   "source": [
    "print(2)"
   ]
  },
  {
   "cell_type": "code",
   "execution_count": 8,
   "id": "5c096788",
   "metadata": {},
   "outputs": [],
   "source": [
    "#given a sentence print only even words\n",
    "def evenwords(amb):\n",
    "    for a in amb.split():\n",
    "        if len(a)%2==0:\n",
    "            print(a,end=\" \")"
   ]
  },
  {
   "cell_type": "code",
   "execution_count": 9,
   "id": "0d3be2fd",
   "metadata": {
    "scrolled": true
   },
   "outputs": [
    {
     "name": "stdout",
     "output_type": "stream",
     "text": [
      "Enter the sentence: mahendra is a great warrior unlike rohit\n",
      "mahendra is unlike "
     ]
    }
   ],
   "source": [
    "evenwords(input(\"Enter the sentence: \"))"
   ]
  },
  {
   "cell_type": "code",
   "execution_count": 21,
   "id": "75bfdcc1",
   "metadata": {},
   "outputs": [],
   "source": [
    "#next character\n",
    "def nextchar(amb):\n",
    "    for c in amb:\n",
    "        if c=='z':\n",
    "            print(chr(ord('a')),end=\"\")\n",
    "        elif c=='Z':\n",
    "            print(chr(ord('A')),end=\"\")\n",
    "        else:\n",
    "            print(chr(ord(c)+1),end=\"\")\n",
    "#ord function funds out the unicode code point of a specified character, for example for 'a' it is 97 and for 'A' it is 65 and chr\n",
    "#finds out the specified character at that unicode point"
   ]
  },
  {
   "cell_type": "code",
   "execution_count": 23,
   "id": "5186b1af",
   "metadata": {
    "scrolled": false
   },
   "outputs": [
    {
     "name": "stdout",
     "output_type": "stream",
     "text": [
      "Enter the string: ZAFFAR\n",
      "ABGGBS"
     ]
    }
   ],
   "source": [
    "nextchar(input(\"Enter the string: \"))"
   ]
  },
  {
   "cell_type": "code",
   "execution_count": 20,
   "id": "89165549",
   "metadata": {
    "scrolled": true
   },
   "outputs": [
    {
     "data": {
      "text/plain": [
       "97"
      ]
     },
     "execution_count": 20,
     "metadata": {},
     "output_type": "execute_result"
    }
   ],
   "source": [
    "ord('a')"
   ]
  },
  {
   "cell_type": "code",
   "execution_count": 24,
   "id": "16530b8b",
   "metadata": {},
   "outputs": [],
   "source": [
    "#how to check if a string is sorted or not\n",
    "def stringsorter(amb):\n",
    "    k=amb.split()\n",
    "    k=k.sort()\n",
    "    km=''.join(k)\n",
    "    print(\"String is sorted\" if km==amb else \"Not sorted\")"
   ]
  },
  {
   "cell_type": "code",
   "execution_count": 25,
   "id": "65efdcd8",
   "metadata": {},
   "outputs": [
    {
     "name": "stdout",
     "output_type": "stream",
     "text": [
      "Enter the string: abcde\n"
     ]
    },
    {
     "ename": "TypeError",
     "evalue": "can only join an iterable",
     "output_type": "error",
     "traceback": [
      "\u001b[1;31m---------------------------------------------------------------------------\u001b[0m",
      "\u001b[1;31mTypeError\u001b[0m                                 Traceback (most recent call last)",
      "\u001b[1;32m~\\AppData\\Local\\Temp\\ipykernel_8864\\466213006.py\u001b[0m in \u001b[0;36m<module>\u001b[1;34m\u001b[0m\n\u001b[1;32m----> 1\u001b[1;33m \u001b[0mstringsorter\u001b[0m\u001b[1;33m(\u001b[0m\u001b[0minput\u001b[0m\u001b[1;33m(\u001b[0m\u001b[1;34m\"Enter the string: \"\u001b[0m\u001b[1;33m)\u001b[0m\u001b[1;33m)\u001b[0m\u001b[1;33m\u001b[0m\u001b[1;33m\u001b[0m\u001b[0m\n\u001b[0m",
      "\u001b[1;32m~\\AppData\\Local\\Temp\\ipykernel_8864\\1273324579.py\u001b[0m in \u001b[0;36mstringsorter\u001b[1;34m(amb)\u001b[0m\n\u001b[0;32m      3\u001b[0m     \u001b[0mk\u001b[0m\u001b[1;33m=\u001b[0m\u001b[0mamb\u001b[0m\u001b[1;33m.\u001b[0m\u001b[0msplit\u001b[0m\u001b[1;33m(\u001b[0m\u001b[1;33m)\u001b[0m\u001b[1;33m\u001b[0m\u001b[1;33m\u001b[0m\u001b[0m\n\u001b[0;32m      4\u001b[0m     \u001b[0mk\u001b[0m\u001b[1;33m=\u001b[0m\u001b[0mk\u001b[0m\u001b[1;33m.\u001b[0m\u001b[0msort\u001b[0m\u001b[1;33m(\u001b[0m\u001b[1;33m)\u001b[0m\u001b[1;33m\u001b[0m\u001b[1;33m\u001b[0m\u001b[0m\n\u001b[1;32m----> 5\u001b[1;33m     \u001b[0mkm\u001b[0m\u001b[1;33m=\u001b[0m\u001b[1;34m''\u001b[0m\u001b[1;33m.\u001b[0m\u001b[0mjoin\u001b[0m\u001b[1;33m(\u001b[0m\u001b[0mk\u001b[0m\u001b[1;33m)\u001b[0m\u001b[1;33m\u001b[0m\u001b[1;33m\u001b[0m\u001b[0m\n\u001b[0m\u001b[0;32m      6\u001b[0m     \u001b[0mprint\u001b[0m\u001b[1;33m(\u001b[0m\u001b[1;34m\"String is sorted\"\u001b[0m \u001b[1;32mif\u001b[0m \u001b[0mkm\u001b[0m\u001b[1;33m==\u001b[0m\u001b[0mamb\u001b[0m \u001b[1;32melse\u001b[0m \u001b[1;34m\"Not sorted\"\u001b[0m\u001b[1;33m)\u001b[0m\u001b[1;33m\u001b[0m\u001b[1;33m\u001b[0m\u001b[0m\n",
      "\u001b[1;31mTypeError\u001b[0m: can only join an iterable"
     ]
    }
   ],
   "source": [
    "stringsorter(input(\"Enter the string: \"))"
   ]
  },
  {
   "cell_type": "code",
   "execution_count": 28,
   "id": "14e5e6a9",
   "metadata": {},
   "outputs": [
    {
     "data": {
      "text/plain": [
       "['abcde']"
      ]
     },
     "execution_count": 28,
     "metadata": {},
     "output_type": "execute_result"
    }
   ],
   "source": [
    "k=\"abcde\"\n",
    "k.split()"
   ]
  },
  {
   "cell_type": "code",
   "execution_count": 29,
   "id": "7d241b3b",
   "metadata": {},
   "outputs": [
    {
     "data": {
      "text/plain": [
       "['a', 'b', 'c', 'd', 'e']"
      ]
     },
     "execution_count": 29,
     "metadata": {},
     "output_type": "execute_result"
    }
   ],
   "source": [
    "list(k)\n",
    "#each item of a word is segregated seperately as list items of the list"
   ]
  },
  {
   "cell_type": "code",
   "execution_count": 35,
   "id": "7bccbe68",
   "metadata": {
    "scrolled": true
   },
   "outputs": [
    {
     "name": "stdout",
     "output_type": "stream",
     "text": [
      "['e', 'd', 'c', 'b', 'a']\n"
     ]
    }
   ],
   "source": [
    "k=\"edcba\"\n",
    "h=list(k)\n",
    "print(h)\n",
    "h.sort()#this is how a string is sorted"
   ]
  },
  {
   "cell_type": "code",
   "execution_count": 34,
   "id": "c2cf9369",
   "metadata": {},
   "outputs": [
    {
     "name": "stdout",
     "output_type": "stream",
     "text": [
      "['a', 'b', 'c', 'd', 'e']\n"
     ]
    }
   ],
   "source": [
    "print(h)"
   ]
  },
  {
   "cell_type": "code",
   "execution_count": 36,
   "id": "7c01428c",
   "metadata": {},
   "outputs": [
    {
     "name": "stdout",
     "output_type": "stream",
     "text": [
      "['e', 'd', 'c', 'b', 'a']\n"
     ]
    }
   ],
   "source": [
    "h1=list(k)\n",
    "h2=h1.copy()\n",
    "print(h2)"
   ]
  },
  {
   "cell_type": "code",
   "execution_count": 37,
   "id": "94611a6a",
   "metadata": {},
   "outputs": [],
   "source": [
    "def stringorderchecker(amb):\n",
    "    z=list(amb)#converts every item of string into individual item of list\n",
    "    k=z.copy()#copies the copy of this unadultered \n",
    "    z.sort()\n",
    "    print(\"Sorted\" if k==z else \"Not sorted\")"
   ]
  },
  {
   "cell_type": "code",
   "execution_count": 41,
   "id": "7f7f2a71",
   "metadata": {
    "scrolled": true
   },
   "outputs": [
    {
     "name": "stdout",
     "output_type": "stream",
     "text": [
      "Enter the string: 12345\n",
      "Sorted\n"
     ]
    }
   ],
   "source": [
    "stringorderchecker(input(\"Enter the string: \"))"
   ]
  },
  {
   "cell_type": "code",
   "execution_count": null,
   "id": "15bcb258",
   "metadata": {},
   "outputs": [],
   "source": [
    "#recursion\n",
    "factorial(3)=3*2*1\n",
    "factorial(3)=3*factorial(2)\n",
    "factorial(2)=2*factorial(1)\n",
    "factorial(1)=1*factorial(0)\n",
    "factorial(0)=1\n",
    "factorial(n)=n*factorial(n-1)"
   ]
  },
  {
   "cell_type": "code",
   "execution_count": 3,
   "id": "7b62a84b",
   "metadata": {},
   "outputs": [],
   "source": [
    "#factorial\n",
    "def factorial(n):\n",
    "    if n==0:\n",
    "        return 1\n",
    "    else:\n",
    "        return n*factorial(n-1)\n",
    "    "
   ]
  },
  {
   "cell_type": "code",
   "execution_count": 5,
   "id": "fa8e3892",
   "metadata": {
    "scrolled": true
   },
   "outputs": [
    {
     "name": "stdout",
     "output_type": "stream",
     "text": [
      "Enter the number: 6\n"
     ]
    },
    {
     "data": {
      "text/plain": [
       "720"
      ]
     },
     "execution_count": 5,
     "metadata": {},
     "output_type": "execute_result"
    }
   ],
   "source": [
    "factorial(int(input(\"Enter the number: \")))"
   ]
  },
  {
   "cell_type": "code",
   "execution_count": 6,
   "id": "26072fa6",
   "metadata": {},
   "outputs": [],
   "source": [
    "#sum of 5 numbers=5+4+3+2+1\n",
    "#sum of 5 numbers=5+sum of 4 numbers\n",
    "#sum of 4 numbers=4+sum of 3 numbers\n",
    "#sum of 3 numbers=3+sum of 2 numbers\n",
    "#sum of 3 numbers=2+sum of 1 number\n",
    "#sum of 1 number=1"
   ]
  },
  {
   "cell_type": "code",
   "execution_count": 7,
   "id": "ddae713e",
   "metadata": {},
   "outputs": [],
   "source": [
    "def sumofnnumbers(n):\n",
    "    if n==1:\n",
    "        return n\n",
    "    else:\n",
    "        return n+sumofnnumbers(n-1)"
   ]
  },
  {
   "cell_type": "code",
   "execution_count": 12,
   "id": "65dfed8d",
   "metadata": {
    "scrolled": true
   },
   "outputs": [
    {
     "name": "stdout",
     "output_type": "stream",
     "text": [
      "Enter the number: 7\n"
     ]
    },
    {
     "data": {
      "text/plain": [
       "28"
      ]
     },
     "execution_count": 12,
     "metadata": {},
     "output_type": "execute_result"
    }
   ],
   "source": [
    "sumofnnumbers(int(input(\"Enter the number: \")))"
   ]
  },
  {
   "cell_type": "code",
   "execution_count": 13,
   "id": "4a13e375",
   "metadata": {},
   "outputs": [],
   "source": [
    "#Given base and exponent, we have to calculate the answer\n",
    "#2 power 4 is 16\n",
    "#2 power 4=2*2 power 3\n",
    "#2 power 3=2*2 power 2\n",
    "#2 power 2=2*2 power 1\n",
    "#2 power 1=2\n",
    "def power(base,exp):\n",
    "    if exp==1:\n",
    "        return base\n",
    "    else:\n",
    "        return base*power(base,exp-1)\n",
    "    "
   ]
  },
  {
   "cell_type": "code",
   "execution_count": 19,
   "id": "db032a37",
   "metadata": {},
   "outputs": [
    {
     "name": "stdout",
     "output_type": "stream",
     "text": [
      "Enter the base: 2\n",
      "Enter the exponent: 12\n"
     ]
    },
    {
     "data": {
      "text/plain": [
       "4096"
      ]
     },
     "execution_count": 19,
     "metadata": {},
     "output_type": "execute_result"
    }
   ],
   "source": [
    "b=int(input(\"Enter the base: \"))\n",
    "e=int(input(\"Enter the exponent: \"))\n",
    "power(b,e)"
   ]
  },
  {
   "cell_type": "markdown",
   "id": "356cd4b8",
   "metadata": {},
   "source": [
    "print(\"k\")"
   ]
  },
  {
   "cell_type": "code",
   "execution_count": 20,
   "id": "281419a3",
   "metadata": {},
   "outputs": [],
   "source": [
    "#Sum of cubes upto a certain number\n",
    "def sumcube3(n):\n",
    "    if n==0:\n",
    "        return 0\n",
    "    else:\n",
    "        return pow(n,3)+sumcube3(n-1)\n",
    "#let's say we have to find the cube of 5 then this is how the programme progresses \n",
    "#5 power 3+sumcube3(4)\n",
    "#5 power 3+4 power 3+sumcube3(3)\n",
    "#5 power 3+4 power 3+3 power 3+sumcube3(2)\n",
    "#5 power 3+4 power 3+3 power 3+2 power 3+sumcube3(1)\n",
    "#5 power 3+4 power 3+3 power 3+2 power 3+1 power 3+sumcube3(0)\n",
    "#5 power 3+4 power 3+3 power 3+2 power 3+1 power 3+0"
   ]
  },
  {
   "cell_type": "code",
   "execution_count": 31,
   "id": "cad99411",
   "metadata": {
    "scrolled": false
   },
   "outputs": [
    {
     "name": "stdout",
     "output_type": "stream",
     "text": [
      "Enter the number: 11\n"
     ]
    },
    {
     "data": {
      "text/plain": [
       "4356"
      ]
     },
     "execution_count": 31,
     "metadata": {},
     "output_type": "execute_result"
    }
   ],
   "source": [
    "sumcube3(int(input(\"Enter the number: \")))"
   ]
  },
  {
   "cell_type": "code",
   "execution_count": 6,
   "id": "396fe8d8",
   "metadata": {},
   "outputs": [
    {
     "name": "stdout",
     "output_type": "stream",
     "text": [
      "390\n"
     ]
    }
   ],
   "source": [
    "#sum of even numbers\n",
    "num=[10,20,30,40,50,60,80,100,101,103,105,107]\n",
    "sum=0\n",
    "for i in num:\n",
    "    if i%2==0:\n",
    "        sum+=i\n",
    "print(sum)"
   ]
  },
  {
   "cell_type": "code",
   "execution_count": 7,
   "id": "2a1aa483",
   "metadata": {},
   "outputs": [
    {
     "name": "stdout",
     "output_type": "stream",
     "text": [
      "sumpositives  60\n",
      "sumnegatives  -60\n"
     ]
    }
   ],
   "source": [
    "#sum of positive and negetaive numbers\n",
    "num1=[10,20,30,-10,-20,-30]\n",
    "sump=0\n",
    "sumn=0\n",
    "for i in num1:\n",
    "    if i>0:\n",
    "        sump+=i\n",
    "    elif i<0:\n",
    "        sumn+=i\n",
    "print(\"sumpositives \",sump)\n",
    "print(\"sumnegatives \",sumn)\n",
    "        "
   ]
  },
  {
   "cell_type": "code",
   "execution_count": 8,
   "id": "e635d629",
   "metadata": {},
   "outputs": [
    {
     "name": "stdout",
     "output_type": "stream",
     "text": [
      "[-30, -20, -10, 30, 20, 10]\n"
     ]
    }
   ],
   "source": [
    "#reversing\n",
    "num1=[10,20,30,-10,-20,-30]\n",
    "rev_num=num1[::-1]\n",
    "print(rev_num)"
   ]
  },
  {
   "cell_type": "code",
   "execution_count": 10,
   "id": "48c21756",
   "metadata": {},
   "outputs": [
    {
     "name": "stdout",
     "output_type": "stream",
     "text": [
      "[-30, -20, -10, 30, 20, 10]\n"
     ]
    }
   ],
   "source": [
    "num1=[10,20,30,-10,-20,-30]\n",
    "rev_num=[]\n",
    "for i in range(len(num1)-1,-1,-1):\n",
    "    rev_num.append(num1[i])\n",
    "print(rev_num)\n",
    "#range(len(num1)-1,-1,-1) means range starts from last element and stops at 0th element as it stops just before -1(it is not included)\n",
    "#and at every step it decreases by -1"
   ]
  },
  {
   "cell_type": "code",
   "execution_count": 1,
   "id": "038751fc",
   "metadata": {},
   "outputs": [
    {
     "name": "stdout",
     "output_type": "stream",
     "text": [
      "3 5 7 71 53 "
     ]
    }
   ],
   "source": [
    "#Programme to find mini-peaks in an array, mini-peaks are those elements which are greater than the previous element as well as the\n",
    "#next element in the array\n",
    "num1=[1,3,2,5,4,2,7,4,5,6,71,32,43,53,41]\n",
    "for i in range(1,len(num1)-1):\n",
    "    if num1[i-1]<num1[i]>num1[i+1]:\n",
    "        print(num1[i],end=\" \")"
   ]
  },
  {
   "cell_type": "code",
   "execution_count": 3,
   "id": "5f7a95b8",
   "metadata": {},
   "outputs": [
    {
     "name": "stdout",
     "output_type": "stream",
     "text": [
      "max is  70  and min is  1\n"
     ]
    }
   ],
   "source": [
    "#max,min elements\n",
    "a=[10,20,30,70,25,35,4,5,6,2,3,1]\n",
    "max=a[0]\n",
    "min=a[0]\n",
    "for i in range(1,len(a)):\n",
    "    if a[i]>max:\n",
    "        max=a[i]\n",
    "    if a[i]<min:\n",
    "        min=a[i]\n",
    "print(\"max is \",max,\" and min is \",min)\n",
    "        "
   ]
  },
  {
   "cell_type": "code",
   "execution_count": 4,
   "id": "727bf44b",
   "metadata": {},
   "outputs": [
    {
     "name": "stdout",
     "output_type": "stream",
     "text": [
      "max is  70  and min is  1\n"
     ]
    }
   ],
   "source": [
    "#max,min elements\n",
    "a=[10,20,30,70,25,35,4,5,6,2,3,1]\n",
    "max=a[0]\n",
    "min=a[0]\n",
    "for i in range(1,len(a)):\n",
    "    if a[i]>max:\n",
    "        max=a[i]\n",
    "    elif a[i]<min:\n",
    "        min=a[i]\n",
    "print(\"max is \",max,\" and min is \",min)"
   ]
  },
  {
   "cell_type": "code",
   "execution_count": 6,
   "id": "dc49987e",
   "metadata": {},
   "outputs": [
    {
     "name": "stdout",
     "output_type": "stream",
     "text": [
      "Enter the number: 3\n",
      "34 25678 91 "
     ]
    }
   ],
   "source": [
    "#print last m elements\n",
    "num=[1,3,2,5,4,911,34,25678,91]\n",
    "m=int(input(\"Enter the number: \"))\n",
    "for i in range(len(num)-m,len(num)):\n",
    "    print(num[i],end=\" \")"
   ]
  },
  {
   "cell_type": "code",
   "execution_count": 8,
   "id": "04d611a9",
   "metadata": {},
   "outputs": [
    {
     "name": "stdout",
     "output_type": "stream",
     "text": [
      "[1, 2, 4]\n"
     ]
    }
   ],
   "source": [
    "#Print element at odd index\n",
    "am=[1,3,2,5,4]\n",
    "z=am[::2]\n",
    "print(z)"
   ]
  },
  {
   "cell_type": "code",
   "execution_count": 4,
   "id": "1271353c",
   "metadata": {},
   "outputs": [
    {
     "name": "stdout",
     "output_type": "stream",
     "text": [
      "Enter the number: 30\n",
      "number of occurences of  30  is  3\n"
     ]
    }
   ],
   "source": [
    "#number of occurences of a particular number \n",
    "am=[10,20,20,30,20,40,50,51,52,53,54,55,56,57,58,20,59,60,20,40,31,40,30,15,20,40,41,42,51,40,30,20,21]\n",
    "m=int(input(\"Enter the number: \"))\n",
    "s=0\n",
    "for i in am:\n",
    "    if m==i:\n",
    "        s+=1\n",
    "print(\"number of occurences of \",m,\" is \",s)"
   ]
  },
  {
   "cell_type": "code",
   "execution_count": 9,
   "id": "9fa0fdd8",
   "metadata": {},
   "outputs": [
    {
     "name": "stdout",
     "output_type": "stream",
     "text": [
      "Enter the number: 20\n",
      "[10, 20, 20, 30, 20, 40, 50, 51, 52, 53, 54, 55, 56, 57, 58, 20, 59, 60, 20, 40, 31, 40, 30, 15, 20, 40, 41, 42, 51, 40, 30, 21]\n"
     ]
    }
   ],
   "source": [
    "#deleting first occurence of a number\n",
    "am=[10,20,20,30,20,40,50,51,52,53,54,55,56,57,58,20,59,60,20,40,31,40,30,15,20,40,41,42,51,40,30,20,21]\n",
    "m=int(input(\"Enter the number: \"))\n",
    "num2=[]\n",
    "for i in range(len(am)):\n",
    "    if am[i]==m:\n",
    "        num2=am[0:i]+am[i+1:len(am)]\n",
    "print(num2)\n",
    "#as we can see if we dont put break then the last occurence of 20 will be selected, if we put break then immediately after that\n",
    "#the iteration will stop and we will jump out of the loop\n",
    "#Not putting break would mean that the loop would keep running even after am[i]==m and num2 would keep getting initialized with some\n",
    "#new values each time"
   ]
  },
  {
   "cell_type": "code",
   "execution_count": 10,
   "id": "fb454642",
   "metadata": {},
   "outputs": [
    {
     "name": "stdout",
     "output_type": "stream",
     "text": [
      "Enter the number: 20\n",
      "[10, 20, 30, 20, 40, 50, 51, 52, 53, 54, 55, 56, 57, 58, 20, 59, 60, 20, 40, 31, 40, 30, 15, 20, 40, 41, 42, 51, 40, 30, 20, 21]\n"
     ]
    }
   ],
   "source": [
    "am=[10,20,20,30,20,40,50,51,52,53,54,55,56,57,58,20,59,60,20,40,31,40,30,15,20,40,41,42,51,40,30,20,21]\n",
    "m=int(input(\"Enter the number: \"))\n",
    "num2=[]\n",
    "for i in range(len(am)):\n",
    "    if am[i]==m:\n",
    "        num2=am[0:i]+am[i+1:len(am)]\n",
    "        break\n",
    "print(num2)\n",
    "#deletes the first occurence of a number"
   ]
  },
  {
   "cell_type": "code",
   "execution_count": 11,
   "id": "21e0fe31",
   "metadata": {},
   "outputs": [
    {
     "name": "stdout",
     "output_type": "stream",
     "text": [
      "Enter the number: 20\n",
      "[10, 20, 20, 30, 20, 40, 50, 51, 52, 53, 54, 55, 56, 57, 58, 20, 59, 60, 20, 40, 31, 40, 30, 15, 20, 40, 41, 42, 51, 40, 30, 21]\n"
     ]
    }
   ],
   "source": [
    "#deletes the last occurence of anumber\n",
    "am=[10,20,20,30,20,40,50,51,52,53,54,55,56,57,58,20,59,60,20,40,31,40,30,15,20,40,41,42,51,40,30,20,21]\n",
    "m=int(input(\"Enter the number: \"))\n",
    "num2=[]\n",
    "for i in range(len(am)):\n",
    "    if am[i]==m:\n",
    "        num2=am[0:i]+am[i+1:len(am)]\n",
    "print(num2)"
   ]
  },
  {
   "cell_type": "code",
   "execution_count": 12,
   "id": "bbab7e7a",
   "metadata": {},
   "outputs": [],
   "source": [
    "#matrix and array\n",
    "m1=[[1,2,3],\n",
    "   [4,5,6],\n",
    "   [7,8,9]]"
   ]
  },
  {
   "cell_type": "code",
   "execution_count": 13,
   "id": "c7b9e1ff",
   "metadata": {},
   "outputs": [
    {
     "name": "stdout",
     "output_type": "stream",
     "text": [
      "[1, 2, 3]\n",
      "[4, 5, 6]\n",
      "[7, 8, 9]\n"
     ]
    }
   ],
   "source": [
    "for i in m1:\n",
    "    print(i)\n",
    "#Each element of m1 is a 1 dimensional array , as we can see this matrix has 3 rows and 3 columns"
   ]
  },
  {
   "cell_type": "code",
   "execution_count": 20,
   "id": "658b3bd4",
   "metadata": {},
   "outputs": [],
   "source": [
    "m1=[[1,2,3],\n",
    "   [4,5,6],\n",
    "   [7,8,9]]\n",
    "m2=[[1,2,3],\n",
    "   [4,5,6],\n",
    "   [7,8,9]]\n",
    "result=[[0,0,0],\n",
    "       [0,0,0],\n",
    "       [0,0,0]]\n"
   ]
  },
  {
   "cell_type": "code",
   "execution_count": 15,
   "id": "37c8c79d",
   "metadata": {},
   "outputs": [
    {
     "data": {
      "text/plain": [
       "3"
      ]
     },
     "execution_count": 15,
     "metadata": {},
     "output_type": "execute_result"
    }
   ],
   "source": [
    "len(m1)"
   ]
  },
  {
   "cell_type": "code",
   "execution_count": 16,
   "id": "81b965c5",
   "metadata": {},
   "outputs": [
    {
     "data": {
      "text/plain": [
       "3"
      ]
     },
     "execution_count": 16,
     "metadata": {},
     "output_type": "execute_result"
    }
   ],
   "source": [
    "len(m1[0])"
   ]
  },
  {
   "cell_type": "code",
   "execution_count": 18,
   "id": "307f2937",
   "metadata": {},
   "outputs": [
    {
     "name": "stdout",
     "output_type": "stream",
     "text": [
      "4\n"
     ]
    }
   ],
   "source": [
    "m3=[[1,2,3,4],\n",
    "   [5,6,7,8],\n",
    "   [9,10,11,12]]\n",
    "print(len(m3[0]))\n",
    "#represents sum of number of elements in the first element of the matrix, the first element of matrix is a 1-Dimensional array"
   ]
  },
  {
   "cell_type": "code",
   "execution_count": 19,
   "id": "c767d414",
   "metadata": {},
   "outputs": [
    {
     "name": "stdout",
     "output_type": "stream",
     "text": [
      "3\n"
     ]
    }
   ],
   "source": [
    "print(len(m3))#represents number of elements in a matrix, here there are 3 as the matrix contains 3 1 dimensional array"
   ]
  },
  {
   "cell_type": "code",
   "execution_count": 21,
   "id": "e5c21204",
   "metadata": {},
   "outputs": [],
   "source": [
    "for i in range(len(m1)):\n",
    "    for j in range(len(m1[0])):\n",
    "        result[i][j]=m1[i][j]+m2[i][j]"
   ]
  },
  {
   "cell_type": "code",
   "execution_count": 22,
   "id": "75f18f4d",
   "metadata": {},
   "outputs": [
    {
     "data": {
      "text/plain": [
       "[[2, 4, 6], [8, 10, 12], [14, 16, 18]]"
      ]
     },
     "execution_count": 22,
     "metadata": {},
     "output_type": "execute_result"
    }
   ],
   "source": [
    "result"
   ]
  },
  {
   "cell_type": "code",
   "execution_count": 23,
   "id": "ed0dd70d",
   "metadata": {},
   "outputs": [
    {
     "name": "stdout",
     "output_type": "stream",
     "text": [
      "[2, 4, 6]\n",
      "[8, 10, 12]\n",
      "[14, 16, 18]\n"
     ]
    }
   ],
   "source": [
    "for i in result:\n",
    "    print(i)\n",
    "#matrix addition can be performed only between those matrices which have the same number of rows and same number of columns"
   ]
  },
  {
   "cell_type": "code",
   "execution_count": 24,
   "id": "0ae37a85",
   "metadata": {},
   "outputs": [
    {
     "name": "stdout",
     "output_type": "stream",
     "text": [
      "1 5 9 "
     ]
    }
   ],
   "source": [
    "m1=[[1,2,3],\n",
    "   [4,5,6],\n",
    "   [7,8,9]]\n",
    "#printing diagonal elements\n",
    "for i in range(len(m1)):\n",
    "    for j in range(len(m1[0])):\n",
    "        if i==j:\n",
    "            print(m1[i][j],end=\" \")"
   ]
  },
  {
   "cell_type": "code",
   "execution_count": 27,
   "id": "68945a38",
   "metadata": {},
   "outputs": [
    {
     "name": "stdout",
     "output_type": "stream",
     "text": [
      "Not sparse matrix\n"
     ]
    }
   ],
   "source": [
    "m1=[[1,2,3],\n",
    "   [4,5,6],\n",
    "   [7,8,9]]\n",
    "#finding if a matrix is sparse matrix or not \n",
    "count=0\n",
    "for i in range(len(m1)):\n",
    "    for j in range(len(m1[0])):\n",
    "        if m1[i][j]==0:\n",
    "            count+=1\n",
    "print(\"sparse matrix \" if count>(len(m1)*len(m1[0]))/2 else \"Not sparse matrix\")"
   ]
  },
  {
   "cell_type": "code",
   "execution_count": 29,
   "id": "7e888e0d",
   "metadata": {},
   "outputs": [
    {
     "name": "stdout",
     "output_type": "stream",
     "text": [
      "sparse matrix \n"
     ]
    }
   ],
   "source": [
    "m1=[[0,2,3],\n",
    "   [0,0,6],\n",
    "   [0,0,9]]\n",
    "#finding if a matrix is sparse matrix or not \n",
    "count=0\n",
    "for i in range(len(m1)):\n",
    "    for j in range(len(m1[0])):\n",
    "        if m1[i][j]==0:\n",
    "            count+=1\n",
    "print(\"sparse matrix \" if count>(len(m1)*len(m1[0]))/2 else \"Not sparse matrix\")\n",
    "#len(m1) means number of rows in a matrix(number of elements in 2 dimensional array) and len(m1[0]) is number of elements in each\n",
    "#1 dimensional array(number of rows in matrix), so if count is greater than half of total elements in a matrix then it is a sparse \n",
    "#matrix e"
   ]
  },
  {
   "cell_type": "code",
   "execution_count": 18,
   "id": "938b48e7",
   "metadata": {},
   "outputs": [],
   "source": [
    "m1=[[1,2,3],\n",
    "   [4,5,6],\n",
    "   [7,8,9]]"
   ]
  },
  {
   "cell_type": "code",
   "execution_count": 19,
   "id": "65917ce5",
   "metadata": {},
   "outputs": [],
   "source": [
    "def swaprows(a,b):\n",
    "    for j in range(len(m1[0])):\n",
    "        a1=m1[a-1][j]\n",
    "        b1=m1[b-1][j]\n",
    "        m1[a-1][j]=b1\n",
    "        m1[b-1][j]=a1\n",
    "    print(m1)"
   ]
  },
  {
   "cell_type": "code",
   "execution_count": 20,
   "id": "e263302b",
   "metadata": {
    "scrolled": true
   },
   "outputs": [
    {
     "name": "stdout",
     "output_type": "stream",
     "text": [
      "Enter the first row to be swapped: 1\n",
      "Enter the second row to be swapped: 3\n",
      "[[7, 8, 9], [4, 5, 6], [1, 2, 3]]\n"
     ]
    }
   ],
   "source": [
    "a=int(input(\"Enter the first row to be swapped: \"))\n",
    "b=int(input(\"Enter the second row to be swapped: \"))\n",
    "swaprows(a,b)"
   ]
  },
  {
   "cell_type": "code",
   "execution_count": 14,
   "id": "822d1da8",
   "metadata": {},
   "outputs": [],
   "source": [
    "def swaprows1(a,b):\n",
    "    for j in range(len(m1[0])):\n",
    "        temp=m1[a-1][j]\n",
    "        m1[a-1][j]=m1[b-1][j]\n",
    "        m1[b-1][j]=temp\n",
    "    print(m1)\n",
    "#temp=a\n",
    "#a=b\n",
    "#b=c"
   ]
  },
  {
   "cell_type": "code",
   "execution_count": 13,
   "id": "74079715",
   "metadata": {},
   "outputs": [
    {
     "name": "stdout",
     "output_type": "stream",
     "text": [
      "1\n",
      "2\n",
      "3\n"
     ]
    }
   ],
   "source": [
    "for i in range(len(m1[0])):\n",
    "    print(m1[0][i])"
   ]
  },
  {
   "cell_type": "code",
   "execution_count": 21,
   "id": "aa524f01",
   "metadata": {},
   "outputs": [
    {
     "name": "stdout",
     "output_type": "stream",
     "text": [
      "[[1, 2, 3], [4, 5, 6], [7, 8, 9]]\n"
     ]
    }
   ],
   "source": [
    "#Transpose a matrix\n",
    "m1=[[1,2,3],\n",
    "   [4,5,6],\n",
    "   [7,8,9]]\n",
    "for i in range(len(m1)):\n",
    "    for j in range(len(m1[0])):\n",
    "        temp=m1[i][j]\n",
    "        m1[i][j]=m1[j][i]\n",
    "        m1[j][i]=temp\n",
    "print(m1)"
   ]
  },
  {
   "cell_type": "code",
   "execution_count": 24,
   "id": "786f9a1d",
   "metadata": {},
   "outputs": [
    {
     "name": "stdout",
     "output_type": "stream",
     "text": [
      "[[1, 4, 7], [2, 5, 8], [3, 6, 9]]\n"
     ]
    }
   ],
   "source": [
    "m1=[[1,2,3],\n",
    "   [4,5,6],\n",
    "   [7,8,9]]\n",
    "result=[[0,0,0],\n",
    "       [0,0,0],\n",
    "       [0,0,0]]\n",
    "for i in range(len(m1)):\n",
    "    for j in range(len(m1[0])):\n",
    "        result[j][i]=m1[i][j]\n",
    "#one way of doing transpose\n",
    "print(result)"
   ]
  },
  {
   "cell_type": "code",
   "execution_count": 25,
   "id": "a5979f83",
   "metadata": {},
   "outputs": [
    {
     "name": "stdout",
     "output_type": "stream",
     "text": [
      "not symmetric\n"
     ]
    }
   ],
   "source": [
    "#symmetric matrix is a matrix which is the same even after being transposed\n",
    "m1=[[1,2,3],\n",
    "   [4,5,6],\n",
    "   [7,8,9]]\n",
    "result=[[0,0,0],\n",
    "       [0,0,0],\n",
    "       [0,0,0]]\n",
    "for i in range(len(m1)):\n",
    "    for j in range(len(m1[0])):\n",
    "        result[j][i]=m1[i][j]\n",
    "print(\"symmetric\" if m1==result else \"not symmetric\")"
   ]
  },
  {
   "cell_type": "code",
   "execution_count": 26,
   "id": "8e8342ab",
   "metadata": {},
   "outputs": [
    {
     "name": "stdout",
     "output_type": "stream",
     "text": [
      "symmetric\n"
     ]
    }
   ],
   "source": [
    "m1=[[1,2],\n",
    "    [2,4]]\n",
    "result=[[0,0],\n",
    "        [0,0]]\n",
    "for i in range(len(m1)):\n",
    "    for j in range(len(m1[0])):\n",
    "        result[j][i]=m1[i][j]\n",
    "print(\"symmetric\" if m1==result else \"not symmetric\")"
   ]
  },
  {
   "cell_type": "code",
   "execution_count": 28,
   "id": "39bf6647",
   "metadata": {},
   "outputs": [
    {
     "name": "stdout",
     "output_type": "stream",
     "text": [
      "Not symmetric\n"
     ]
    }
   ],
   "source": [
    "m1=[[1,3],\n",
    "   [2,4]]\n",
    "result=[[0,0],\n",
    "       [0,0]]\n",
    "for i in range(len(m1)):\n",
    "    for j in range(len(m1[0])):\n",
    "        result[j][i]=m1[i][j]\n",
    "symmetric=True\n",
    "for i in range(len(m1)):\n",
    "    for j in range(len(m1[0])):\n",
    "        if result[i][j]!=m1[i][j]:\n",
    "            symmetric=False\n",
    "if symmetric:\n",
    "    print(\"It is symmetric\")\n",
    "else:\n",
    "    print(\"Not symmetric\")\n",
    "        "
   ]
  },
  {
   "cell_type": "code",
   "execution_count": 30,
   "id": "e653b0e4",
   "metadata": {},
   "outputs": [
    {
     "name": "stdout",
     "output_type": "stream",
     "text": [
      "Enter the first column: 1\n",
      "Enter the second column: 3\n",
      "[[3, 2, 1], [6, 5, 4], [9, 8, 7]]\n"
     ]
    }
   ],
   "source": [
    "#swap columns\n",
    "m1=[[1,2,3],\n",
    "   [4,5,6],\n",
    "   [7,8,9]]\n",
    "result=[[0,0,0],\n",
    "       [0,0,0],\n",
    "       [0,0,0]]\n",
    "a=int(input(\"Enter the first column: \"))\n",
    "b=int(input(\"Enter the second column: \"))\n",
    "for i in range(len(m1)):\n",
    "    temp=m1[i][a-1]\n",
    "    m1[i][a-1]=m1[i][b-1]\n",
    "    m1[i][b-1]=temp\n",
    "print(m1)"
   ]
  },
  {
   "cell_type": "code",
   "execution_count": 34,
   "id": "ffc16309",
   "metadata": {},
   "outputs": [
    {
     "name": "stdout",
     "output_type": "stream",
     "text": [
      "3 5 7 "
     ]
    }
   ],
   "source": [
    "m1=[[1,2,3],\n",
    "   [4,5,6],\n",
    "   [7,8,9]]\n",
    "for i in range(len(m1)):\n",
    "    for j in range(len(m1[0])):\n",
    "        if (i+j)==len(m1[0])-1:\n",
    "            print(m1[i][j],end=\" \")\n",
    "#00 01 02\n",
    "#10 11 12\n",
    "#20 21 22\n",
    "#as we can see secondary diagonal elements are 02,11,20.... and if i is taken as row index and j is taken as column index then\n",
    "#we see that sum of both the indexes i+j at each secondary diagonal is 1 less than total number of columns(total number of items\n",
    "#in each 1 dimensional array)"
   ]
  },
  {
   "cell_type": "code",
   "execution_count": 52,
   "id": "707b26d9",
   "metadata": {},
   "outputs": [
    {
     "name": "stdout",
     "output_type": "stream",
     "text": [
      "Enter the number: 10\n",
      "\n",
      "1 \n",
      "1 2 \n",
      "1 2 3 \n",
      "1 2 3 4 \n",
      "1 2 3 4 5 \n",
      "1 2 3 4 5 6 \n",
      "1 2 3 4 5 6 7 \n",
      "1 2 3 4 5 6 7 8 \n",
      "1 2 3 4 5 6 7 8 9 \n",
      "1 2 3 4 5 6 7 8 9 10 \n"
     ]
    }
   ],
   "source": [
    "#Right angle printing\n",
    "m=int(input(\"Enter the number: \"))\n",
    "for i in range(m+1):\n",
    "#     print(\"\\n\")\n",
    "    for j in range(i):\n",
    "        print(j+1,end=\" \")\n",
    "    print(\"\")\n",
    "        "
   ]
  },
  {
   "cell_type": "code",
   "execution_count": 58,
   "id": "ce2ed601",
   "metadata": {},
   "outputs": [
    {
     "name": "stdout",
     "output_type": "stream",
     "text": [
      "\n",
      "\n",
      "\n",
      "\n"
     ]
    }
   ],
   "source": [
    "for i in range(4):\n",
    "#     print(i)\n",
    "    print(\"\")"
   ]
  },
  {
   "cell_type": "code",
   "execution_count": 64,
   "id": "fa46275e",
   "metadata": {
    "scrolled": true
   },
   "outputs": [
    {
     "name": "stdout",
     "output_type": "stream",
     "text": [
      "0 1 2 3 1\n",
      "0 1 2 3 1\n",
      "0 1 2 3 1\n",
      "0 1 2 3 1\n"
     ]
    }
   ],
   "source": [
    "for i in range(4):\n",
    "    for j in range(4):\n",
    "        print(j,end=\" \")\n",
    "    print(1)"
   ]
  },
  {
   "cell_type": "code",
   "execution_count": 65,
   "id": "8aa39772",
   "metadata": {},
   "outputs": [
    {
     "name": "stdout",
     "output_type": "stream",
     "text": [
      "0 1 2 3 0 1 2 3 0 1 2 3 0 1 2 3 "
     ]
    }
   ],
   "source": [
    "for i in range(4):\n",
    "    for j in range(4):\n",
    "        print(j,end=\" \")\n",
    "#if we don't put print within the scope of the outer for loop then the element that will be printed after the end of inner for loop\n",
    "#will not be on the new line"
   ]
  },
  {
   "cell_type": "code",
   "execution_count": 66,
   "id": "178b3736",
   "metadata": {},
   "outputs": [
    {
     "name": "stdout",
     "output_type": "stream",
     "text": [
      "0 1 2 3  \n",
      "0 1 2 3  \n",
      "0 1 2 3  \n",
      "0 1 2 3  \n"
     ]
    }
   ],
   "source": [
    "for i in range(4):\n",
    "    for j in range(4):\n",
    "        print(j,end=\" \")\n",
    "    print(\" \")\n",
    "#as we can see here, even if we print space print(\" \") within the scope of outer for loop, we still see that the next new line is printed\n",
    "#on the new line "
   ]
  },
  {
   "cell_type": "code",
   "execution_count": 68,
   "id": "ff831a6c",
   "metadata": {},
   "outputs": [
    {
     "name": "stdout",
     "output_type": "stream",
     "text": [
      "0 1 2 3 1\n",
      "0 1 2 3 1\n",
      "0 1 2 3 1\n",
      "0 1 2 3 1\n"
     ]
    }
   ],
   "source": [
    "for i in range(4):\n",
    "    for j in range(4):\n",
    "        print(j,end=\" \")\n",
    "    print(1)\n",
    "#when we print 1 within the scope of the outermost for loop(print(1)), we see that 1 gets printed at the end of each line and then \n",
    "#we go to a new line "
   ]
  },
  {
   "cell_type": "code",
   "execution_count": 7,
   "id": "46a04a93",
   "metadata": {},
   "outputs": [
    {
     "name": "stdout",
     "output_type": "stream",
     "text": [
      "Enter the number: 10\n",
      "1  \n",
      "1 2  \n",
      "1 2 3  \n",
      "1 2 3 4  \n",
      "1 2 3 4 5  \n",
      "1 2 3 4 5 6  \n",
      "1 2 3 4 5 6 7  \n",
      "1 2 3 4 5 6 7 8  \n",
      "1 2 3 4 5 6 7 8 9  \n",
      "1 2 3 4 5 6 7 8 9 10  \n"
     ]
    }
   ],
   "source": [
    "#Printing right-angled triangle(1st variation)\n",
    "a=int(input(\"Enter the number: \"))\n",
    "for i in range(1,a+1):\n",
    "    for j in range(1,i+1):\n",
    "        print(j,end=\" \")\n",
    "    print(\" \")"
   ]
  },
  {
   "cell_type": "code",
   "execution_count": 6,
   "id": "5bd57db8",
   "metadata": {
    "scrolled": true
   },
   "outputs": [
    {
     "name": "stdout",
     "output_type": "stream",
     "text": [
      "Enter the number: 10\n",
      "1 \n",
      "2 2 \n",
      "3 3 3 \n",
      "4 4 4 4 \n",
      "5 5 5 5 5 \n",
      "6 6 6 6 6 6 \n",
      "7 7 7 7 7 7 7 \n",
      "8 8 8 8 8 8 8 8 \n",
      "9 9 9 9 9 9 9 9 9 \n",
      "10 10 10 10 10 10 10 10 10 10 \n"
     ]
    }
   ],
   "source": [
    "a=int(input(\"Enter the number: \"))\n",
    "for i in range(1,a+1):\n",
    "    for j in range(i):\n",
    "        print(i,end=\" \")\n",
    "    print(\"\")"
   ]
  },
  {
   "cell_type": "code",
   "execution_count": 10,
   "id": "09f9de53",
   "metadata": {},
   "outputs": [
    {
     "name": "stdout",
     "output_type": "stream",
     "text": [
      "Enter the number: 10\n",
      "@ @ @ @ @ @ @ @ @ @  \n",
      "@ @ @ @ @ @ @ @ @  \n",
      "@ @ @ @ @ @ @ @  \n",
      "@ @ @ @ @ @ @  \n",
      "@ @ @ @ @ @  \n",
      "@ @ @ @ @  \n",
      "@ @ @ @  \n",
      "@ @ @  \n",
      "@ @  \n",
      "@  \n"
     ]
    }
   ],
   "source": [
    "a=int(input(\"Enter the number: \"))\n",
    "for i in range(a,0,-1):\n",
    "    for j in range(i):\n",
    "        print(\"@\",end=\" \")\n",
    "    print(\" \")"
   ]
  },
  {
   "cell_type": "code",
   "execution_count": 11,
   "id": "7441db9b",
   "metadata": {},
   "outputs": [
    {
     "data": {
      "text/plain": [
       "[5, 4, 3]"
      ]
     },
     "execution_count": 11,
     "metadata": {},
     "output_type": "execute_result"
    }
   ],
   "source": [
    "a1=[1,2,3,4,5,6,7,8]\n",
    "a1[4:1:-1]"
   ]
  },
  {
   "cell_type": "code",
   "execution_count": 12,
   "id": "17004db1",
   "metadata": {},
   "outputs": [
    {
     "data": {
      "text/plain": [
       "[]"
      ]
     },
     "execution_count": 12,
     "metadata": {},
     "output_type": "execute_result"
    }
   ],
   "source": [
    "a1[1:4:-1]"
   ]
  },
  {
   "cell_type": "code",
   "execution_count": 13,
   "id": "cfcd6495",
   "metadata": {},
   "outputs": [
    {
     "name": "stdout",
     "output_type": "stream",
     "text": [
      "6\n",
      "5\n",
      "4\n",
      "3\n",
      "2\n"
     ]
    }
   ],
   "source": [
    "for i in range(6,1,-1):\n",
    "    print(i)\n",
    "#this is one way of decrementing range"
   ]
  },
  {
   "cell_type": "code",
   "execution_count": 14,
   "id": "b79cc376",
   "metadata": {},
   "outputs": [
    {
     "name": "stdout",
     "output_type": "stream",
     "text": [
      "Enter the number: 10\n",
      "@ @ @ @ @ @ @ @ @ @  \n",
      "@ @ @ @ @ @ @ @ @  \n",
      "@ @ @ @ @ @ @ @  \n",
      "@ @ @ @ @ @ @  \n",
      "@ @ @ @ @ @  \n",
      "@ @ @ @ @  \n",
      "@ @ @ @  \n",
      "@ @ @  \n",
      "@ @  \n",
      "@  \n"
     ]
    }
   ],
   "source": [
    "#Inverted right triangle\n",
    "a=int(input(\"Enter the number: \"))\n",
    "for i in range(a,0,-1):\n",
    "    for j in range(i):\n",
    "        print(\"@\",end=\" \")\n",
    "    print(\" \")"
   ]
  },
  {
   "cell_type": "code",
   "execution_count": 16,
   "id": "e5e2fefd",
   "metadata": {},
   "outputs": [
    {
     "name": "stdout",
     "output_type": "stream",
     "text": [
      "Enter the number: 10\n",
      "1 2 3 4 5 6 7 8 9 10  \n",
      "1 2 3 4 5 6 7 8 9  \n",
      "1 2 3 4 5 6 7 8  \n",
      "1 2 3 4 5 6 7  \n",
      "1 2 3 4 5 6  \n",
      "1 2 3 4 5  \n",
      "1 2 3 4  \n",
      "1 2 3  \n",
      "1 2  \n",
      "1  \n"
     ]
    }
   ],
   "source": [
    "#Inverted right triangle variation\n",
    "a=int(input(\"Enter the number: \"))\n",
    "for i in range(a,0,-1):\n",
    "    for j in range(1,i+1):\n",
    "        print(j,end=\" \")\n",
    "    print(\" \")"
   ]
  },
  {
   "cell_type": "code",
   "execution_count": 17,
   "id": "242115d4",
   "metadata": {},
   "outputs": [
    {
     "name": "stdout",
     "output_type": "stream",
     "text": [
      "Enter the number: 10\n",
      "10 10 10 10 10 10 10 10 10 10  \n",
      "9 9 9 9 9 9 9 9 9  \n",
      "8 8 8 8 8 8 8 8  \n",
      "7 7 7 7 7 7 7  \n",
      "6 6 6 6 6 6  \n",
      "5 5 5 5 5  \n",
      "4 4 4 4  \n",
      "3 3 3  \n",
      "2 2  \n",
      "1  \n"
     ]
    }
   ],
   "source": [
    "a=int(input(\"Enter the number: \"))\n",
    "for i in range(a,0,-1):\n",
    "    for j in range(i):\n",
    "        print(i,end=\" \")\n",
    "    print(\" \")"
   ]
  },
  {
   "cell_type": "code",
   "execution_count": 21,
   "id": "77c15011",
   "metadata": {},
   "outputs": [
    {
     "name": "stdout",
     "output_type": "stream",
     "text": [
      "Enter the number: 10\n",
      "                  *\n",
      "                *\n",
      "              *\n",
      "            *\n",
      "          *\n",
      "        *\n",
      "      *\n",
      "    *\n",
      "  *\n",
      "*\n"
     ]
    }
   ],
   "source": [
    "#mirrored righ angle triangle\n",
    "a=int(input(\"Enter the number: \"))\n",
    "for i in range(a,0,-1):\n",
    "    for j in range(i-1):\n",
    "        print(\" \",end=\" \")\n",
    "        for k in range()\n",
    "    "
   ]
  },
  {
   "cell_type": "code",
   "execution_count": 22,
   "id": "45b6254f",
   "metadata": {},
   "outputs": [
    {
     "name": "stdout",
     "output_type": "stream",
     "text": [
      "Enter the number: 10\n",
      "                  *  \n",
      "                * *  \n",
      "              * * *  \n",
      "            * * * *  \n",
      "          * * * * *  \n",
      "        * * * * * *  \n",
      "      * * * * * * *  \n",
      "    * * * * * * * *  \n",
      "  * * * * * * * * *  \n",
      "* * * * * * * * * *  \n"
     ]
    }
   ],
   "source": [
    "#mirrored right angled triangle\n",
    "a=int(input(\"Enter the number: \"))\n",
    "for i in range(1,a+1):\n",
    "    for j in range(1,a+1):\n",
    "        if j<=a-i:\n",
    "            print(' ',end=\" \")\n",
    "        else:\n",
    "            print('*',end=\" \")\n",
    "    print(\" \")\n",
    "#when i=1 then inside the inner for loop j(1)<=10-1...1<=9 the till this condition is satisfied , ' ' space is printed and after\n",
    "#that when j=10 then * is printed\n",
    "#when i=2 then inside the inner for loop j<=10-2...1<=8 , so till the time j==8 till then space will be printed and after that\n",
    "#when j=9 and j=10 then * will be printed, print(' ') is inside outer for loop which acts like a new line operator here\n",
    "#when i=3 then inner for loop j<=10-3...1<=7, so till the time j==7 till then space will be printed and after that when j=8,j=9\n",
    "#and j=10 then star will be printed, print(\" \") is done in order to move to the next line\n",
    "#when i=4 then inner for loop j<=10-4...1<=6, so till the time j==6 till then space will be printed and after that when j=7,j=8\n",
    "#j=9 and j=10 then '*' will get printed, print(\" \") is done in order to move to the next line\n",
    "#when i=5 then inner for loop j<=10-5...1<=5, so till the time j==5 till then space will be printed and after that when j=6,7,8,9,\n",
    "#10 then '*' will get printed, print(\" \") is done in order to move to the next line"
   ]
  },
  {
   "cell_type": "code",
   "execution_count": 1,
   "id": "6bee10c6",
   "metadata": {},
   "outputs": [
    {
     "data": {
      "text/plain": [
       "97"
      ]
     },
     "execution_count": 1,
     "metadata": {},
     "output_type": "execute_result"
    }
   ],
   "source": [
    "ord('a')"
   ]
  },
  {
   "cell_type": "code",
   "execution_count": 2,
   "id": "00ed6d3f",
   "metadata": {},
   "outputs": [
    {
     "data": {
      "text/plain": [
       "'a'"
      ]
     },
     "execution_count": 2,
     "metadata": {},
     "output_type": "execute_result"
    }
   ],
   "source": [
    "chr(ord('a'))"
   ]
  },
  {
   "cell_type": "code",
   "execution_count": 14,
   "id": "f4197855",
   "metadata": {},
   "outputs": [
    {
     "name": "stdout",
     "output_type": "stream",
     "text": [
      "Enter the number: 10\n",
      "                                    a  \n",
      "                                  b c  \n",
      "                                d e f  \n",
      "                              g h i j  \n",
      "                            k l m n o  \n",
      "                          p q r s t u  \n",
      "                        v w x y z { |  \n",
      "                      } ~        \n",
      "                    ",
      "          \n",
      "                             \n"
     ]
    }
   ],
   "source": [
    "num=int(input(\"Enter the number: \"))\n",
    "k=(2*num)-2\n",
    "an=97\n",
    "for i in range(0,num):\n",
    "    for j in range(0,k):\n",
    "        print(\" \",end=\" \")\n",
    "    k=k-1\n",
    "    for z in range(0,i+1):\n",
    "        character=chr(an)\n",
    "        print(character,end=\" \")\n",
    "        an+=1\n",
    "    print(\" \")"
   ]
  },
  {
   "cell_type": "code",
   "execution_count": 21,
   "id": "6579e6eb",
   "metadata": {},
   "outputs": [
    {
     "name": "stdout",
     "output_type": "stream",
     "text": [
      "                                                                                                                                                                                                        1\n",
      "                                                                                                                                                                                                        1\n",
      "                                                                                                                                                                                                        1\n",
      "                                                                                                                                                                                                        1\n"
     ]
    }
   ],
   "source": [
    "k=100\n",
    "for l in range(4):\n",
    "    for i in range(k):\n",
    "       print(\" \",end=\" \")\n",
    "#     k=k-1\n",
    "    print(1)"
   ]
  },
  {
   "cell_type": "code",
   "execution_count": 22,
   "id": "d17657d3",
   "metadata": {},
   "outputs": [
    {
     "name": "stdout",
     "output_type": "stream",
     "text": [
      "                                                                                                                                                                                                        1\n",
      "                                                                                                                                                                                                      1\n",
      "                                                                                                                                                                                                    1\n",
      "                                                                                                                                                                                                  1\n"
     ]
    }
   ],
   "source": [
    "k=100\n",
    "for l in range(4):\n",
    "    for i in range(k):\n",
    "       print(\" \",end=\" \")\n",
    "    k=k-1\n",
    "    print(1)"
   ]
  },
  {
   "cell_type": "code",
   "execution_count": 23,
   "id": "5aedeabf",
   "metadata": {},
   "outputs": [
    {
     "name": "stdout",
     "output_type": "stream",
     "text": [
      "                                                                                                    1\n",
      "                                                                                                   1\n",
      "                                                                                                  1\n",
      "                                                                                                 1\n"
     ]
    }
   ],
   "source": [
    "k=100\n",
    "for l in range(4):\n",
    "    for i in range(k):\n",
    "       print(end=\" \")\n",
    "    k=k-1\n",
    "    print(1)"
   ]
  },
  {
   "cell_type": "code",
   "execution_count": 24,
   "id": "735e4b20",
   "metadata": {},
   "outputs": [
    {
     "name": "stdout",
     "output_type": "stream",
     "text": [
      "                                                                                                    1\n",
      "                                                                                                    1\n",
      "                                                                                                    1\n",
      "                                                                                                    1\n"
     ]
    }
   ],
   "source": [
    "k=100\n",
    "for l in range(4):\n",
    "    for i in range(k):\n",
    "       print(end=\" \")\n",
    "#     k=k-1\n",
    "    print(1)"
   ]
  },
  {
   "cell_type": "code",
   "execution_count": 30,
   "id": "43312dba",
   "metadata": {},
   "outputs": [
    {
     "name": "stdout",
     "output_type": "stream",
     "text": [
      "Enter the number: 10\n",
      "*  \n",
      "* *  \n",
      "* * *  \n",
      "* * * *  \n",
      "* * * * *  \n",
      "* * * * * *  \n",
      "* * * * * * *  \n",
      "* * * * * * * *  \n",
      "* * * * * * * * *  \n",
      "* * * * * * * * * *  \n"
     ]
    }
   ],
   "source": [
    "a=int(input(\"Enter the number: \"))\n",
    "for i in range(1,a+1):\n",
    "    for j in range(1,a+1):\n",
    "        if j<=a-i:\n",
    "            print('',end=\"\")\n",
    "        else:\n",
    "            print('*',end=\" \")\n",
    "    print(\" \")\n",
    "#When we give no space at all in each line(row) then we get this kind of pattern"
   ]
  },
  {
   "cell_type": "code",
   "execution_count": 39,
   "id": "8ae0f343",
   "metadata": {},
   "outputs": [
    {
     "name": "stdout",
     "output_type": "stream",
     "text": [
      "Enter the number: 10\n",
      "         * \n",
      "        * * \n",
      "       * * * \n",
      "      * * * * \n",
      "     * * * * * \n",
      "    * * * * * * \n",
      "   * * * * * * * \n",
      "  * * * * * * * * \n",
      " * * * * * * * * * \n",
      "* * * * * * * * * * \n"
     ]
    }
   ],
   "source": [
    "a=int(input(\"Enter the number: \"))\n",
    "for i in range(1,a+1):\n",
    "    for j in range(1,a+1):\n",
    "        if j<=a-i:\n",
    "            print('',end=\" \")\n",
    "        else:\n",
    "            print('*',end=\" \")\n",
    "    print()\n",
    "#when we give one space then we get a pyramidical shape "
   ]
  },
  {
   "cell_type": "code",
   "execution_count": 32,
   "id": "01766c85",
   "metadata": {},
   "outputs": [
    {
     "name": "stdout",
     "output_type": "stream",
     "text": [
      "Enter the number: 10\n",
      "                  *  \n",
      "                * *  \n",
      "              * * *  \n",
      "            * * * *  \n",
      "          * * * * *  \n",
      "        * * * * * *  \n",
      "      * * * * * * *  \n",
      "    * * * * * * * *  \n",
      "  * * * * * * * * *  \n",
      "* * * * * * * * * *  \n"
     ]
    }
   ],
   "source": [
    "a=int(input(\"Enter the number: \"))\n",
    "for i in range(1,a+1):\n",
    "    for j in range(1,a+1):\n",
    "        if j<=a-i:\n",
    "            print(' ',end=\" \")\n",
    "        else:\n",
    "            print('*',end=\" \")\n",
    "    print(\" \")\n",
    "#when we give two spaces in each iteration then this is what we get"
   ]
  },
  {
   "cell_type": "code",
   "execution_count": 37,
   "id": "83ffbf41",
   "metadata": {},
   "outputs": [
    {
     "name": "stdout",
     "output_type": "stream",
     "text": [
      "        1\n",
      "        1\n",
      "        1\n",
      "        1\n"
     ]
    }
   ],
   "source": [
    "for j in range(1,5):\n",
    "    for k in range(1,5):\n",
    "        print(' ',end=\" \")\n",
    "    print(1)"
   ]
  },
  {
   "cell_type": "code",
   "execution_count": 2,
   "id": "3affead3",
   "metadata": {},
   "outputs": [
    {
     "name": "stdout",
     "output_type": "stream",
     "text": [
      "Enter the input: 10\n",
      "         a \n",
      "        b c \n",
      "       d e f \n",
      "      g h i j \n",
      "     k l m n o \n",
      "    p q r s t u \n",
      "   v w x y z { | \n",
      "  } ~       \n",
      " ",
      "         \n",
      "          \n"
     ]
    }
   ],
   "source": [
    "a=int(input(\"Enter the input: \"))\n",
    "an=97\n",
    "for i in range(1,a+1):\n",
    "    for j in range(1,a+1):\n",
    "        if j<=a-i:\n",
    "            print(\" \",end=\"\")\n",
    "        else:\n",
    "            print(chr(an),end=\" \")\n",
    "            an+=1\n",
    "    print()\n",
    "#As we can see here when i=1, j=1 then j<=10-1, j<=9 then we print 1 empty space 9 times after which j becomes 10 and then\n",
    "#character corresponding to ASCII 97 gets printed after which an is incremented, print() within the scope of outer for loop\n",
    "#is used for going to the next line.... when i=2, j=1 then 1<=8 which evaluates to True, which prints single space 8 times, \n",
    "#after which 2 characters are printed at j=9 and j=10, at j=9 b gets printed after which an gets incremented by 1 and hence in the\n",
    "#next iteration c gets printed.... when i=3, j=1 then 1<=7 which evaluates to True, which prints single space 7 times, \n",
    "#after which 3 characters are printed at j=8,j=9, j=10 at which d e and f are printed...when i=4, j=1 then 1<=6 which evaluates \n",
    "#to True, so space is printed 6 times after which j becomes greater than 6, so at j=7,8,9 and 10 at which g h i and j are printed\n"
   ]
  },
  {
   "cell_type": "code",
   "execution_count": 6,
   "id": "b72fce8a",
   "metadata": {},
   "outputs": [
    {
     "name": "stdout",
     "output_type": "stream",
     "text": [
      "Enter the number: 5\n",
      "a b c d e \n",
      "f g h i \n",
      "j k l \n",
      "m n \n",
      "o \n"
     ]
    }
   ],
   "source": [
    "a=int(input(\"Enter the number: \"))\n",
    "an=97\n",
    "for i in range(0,a):\n",
    "    for j in range(1,a+1):\n",
    "        if j<=(a-i):\n",
    "            print(chr(an),end=\" \")\n",
    "            an+=1\n",
    "        else:\n",
    "            print(\"\",end=\"\")\n",
    "    print()\n",
    "            "
   ]
  },
  {
   "cell_type": "code",
   "execution_count": 12,
   "id": "cd7a11bd",
   "metadata": {},
   "outputs": [
    {
     "name": "stdout",
     "output_type": "stream",
     "text": [
      "Enter the number: 5\n",
      "a  b  c  d  e  \n",
      " f  g  h  i  \n",
      "  j  k  l  \n",
      "   m  n  \n",
      "    o  \n"
     ]
    }
   ],
   "source": [
    "a=int(input(\"Enter the number: \"))\n",
    "an=97\n",
    "for i in range(1,a+1):\n",
    "    for j in range(1,a+1):\n",
    "        if j<=i-1:\n",
    "            print(\"\",end=\" \")\n",
    "        else:\n",
    "            print(chr(an),end=\"  \")\n",
    "            an+=1\n",
    "    print()\n",
    "#when i=1 then in the first loop, j<=0 or 1<=0 which evaluates to false hence else part will be executed, again i becomes 2 and \n",
    "#j<=2-1 so as 1<=1 evaluates to true, if part will be executed once(for space) and then else part will be executed 4 times this time\n",
    "#now i becomes 3, j<=3-1 which means 1<=2 would translate to true, if part will be executed twice putting two spaces and when j==3\n",
    "#then condition becomes false and then else part will be printed at j=3,4,5 printing 3 words\n",
    "#when i becomes 4 then j<=3 or 1<=3 evaluates to true and if part executes till j==3 and then else part gets executed when j=4 and j=5\n",
    "#when i becomes 5 then j<=4 or 1<=4 evaluates to true and spaces will be executed till j becomes 4 after which else part will be executed\n",
    "#for once"
   ]
  },
  {
   "cell_type": "code",
   "execution_count": 7,
   "id": "3771dc27",
   "metadata": {
    "scrolled": false
   },
   "outputs": [
    {
     "name": "stdout",
     "output_type": "stream",
     "text": [
      "Enter the number: 10\n",
      "* \n",
      "* * \n",
      "* * * \n",
      "* * * * \n",
      "* * * * * \n",
      "* * * * * * \n",
      "* * * * * * * \n",
      "* * * * * * * * \n",
      "* * * * * * * * * \n",
      "* * * * * * * * * * \n",
      "* * * * * * * * * \n",
      "* * * * * * * * \n",
      "* * * * * * * \n",
      "* * * * * * \n",
      "* * * * * \n",
      "* * * * \n",
      "* * * \n",
      "* * \n",
      "* \n"
     ]
    }
   ],
   "source": [
    "#right angled triangle \n",
    "a=int(input(\"Enter the number: \"))\n",
    "for i in range(1,a+1):\n",
    "    for j in range(i):\n",
    "        print('*',end=\" \")\n",
    "#     for k in range(a-1,0,-1):\n",
    "#         print('*',end=\" \")\n",
    "    print()\n",
    "if i==a:\n",
    "    for k in range(a-1,0,-1):\n",
    "        for j in range(k):\n",
    "            print('*',end=\" \")\n",
    "        print()"
   ]
  },
  {
   "cell_type": "code",
   "execution_count": 19,
   "id": "239f8d63",
   "metadata": {},
   "outputs": [
    {
     "name": "stdout",
     "output_type": "stream",
     "text": [
      "Enter the number: 5\n",
      "* * * * * \n",
      " * * * * \n",
      "  * * * \n",
      "   * * \n",
      "    * \n",
      "    * \n",
      "   * * \n",
      "  * * * \n",
      " * * * * \n",
      "* * * * * \n"
     ]
    }
   ],
   "source": [
    "#sandglass\n",
    "a=int(input(\"Enter the number: \"))\n",
    "for i in range(1,a+1):\n",
    "    for j in range(1,a+1):\n",
    "        if j<=i-1:\n",
    "            print(end=' ')\n",
    "        else:\n",
    "            print('*',end=\" \")\n",
    "    print()\n",
    "for k in range(1,a+1):\n",
    "    for l in range(1,a+1):\n",
    "        if l<=a-k:\n",
    "            print(end=' ')\n",
    "        else:\n",
    "            print('*',end=\" \")\n",
    "    print()\n",
    "#the sandglass is printed in two parts, first for the downward pyramid and upper pyramid is printed later on....\n",
    "#when i=1 then j<=0(where j=1) now j evaluates to false as 1<=0 which is false hence the else part gets printed, else part gets printed\n",
    "#3 times.... when i=2 then j<=1 so initially 1<=1 which evaluates to True so 1 space gets printed, when j becomes 2 then then condition evaluate to false\n",
    "#and else part is printed at j=2 and j=3\n",
    "#when i=3 then j<=2 evaluates to false initially ehen j=1 so initially 1<=2 which evaluates to True so one space gets printed, when j\n",
    "#is increased to 2 then 2<=2 which evaluates to True again so another space is put, when j becomes 3 then on star gets printed after which\n",
    "#upper part of the upper is done(downward pyramid is done)\n",
    "#finally first pair of the for loop ends and we now move to the next pair\n",
    "#for the next pair when k=1, l=1 then 1<=a-k, 1<=3-1, 1<=2 which evaluates to True when l=1 and l=2 printing 2 spaces, at l=1 if part runs\n",
    "#at l=2 if part runs again and at l=3 if part becomes False after which we move to the else part at l=3 where a star '*' gets printed\n",
    "#when the inner for loop(containing l) gets completed then print() statement is executed sending cursor to the next line\n",
    "#when k=2, l=1 then l<=1, 1<=1 holds true so if part will run and a space gets printed, when l becomes 2 then else part will start\n",
    "#getting executed and '*' gets printed after that twice when l=2 and l=3 after that print() of the outermost for loop(k) gets executed for\n",
    "#the newline , when k=3 then l<=0 1<=0 which is false hence else part runs three times when l=1,l=2 and l=3 and prints stars '*' and after that\n",
    "#print() function gets excuted but as k has no more iterations left so the programme stops \n"
   ]
  },
  {
   "cell_type": "code",
   "execution_count": 26,
   "id": "63e74496",
   "metadata": {},
   "outputs": [
    {
     "name": "stdout",
     "output_type": "stream",
     "text": [
      "Enter the number: 3\n",
      "* * * \n",
      " * * \n",
      "  * \n",
      "  * \n",
      " * * \n",
      "* * * \n"
     ]
    }
   ],
   "source": [
    "a=int(input(\"Enter the number: \"))\n",
    "for i in range(0,a):\n",
    "    for j in range(0,i):\n",
    "        print(' ',end='')\n",
    "    for k in range(a-i):\n",
    "        print('*',end=\" \")\n",
    "    print()\n",
    "for l in range(a,0,-1):\n",
    "    for m in range(0,l-1):\n",
    "        print(' ',end=\"\")\n",
    "    for n in range(l,a+1):\n",
    "        print('*',end=\" \")\n",
    "    print()\n",
    "#in rhe first section(i loop) when i=0, then no empty space will be printed as range of j is between 0 to 0 and k loop will be executed\n",
    "#a-i times(3 times) at k=0,k=1 and k=2 so star('*') gets printed after that print() function moves the line to a new line, now i becomes 1\n",
    "#space is printed for once when j is in range(0,1) after which the control jumps to k for loop at which stars (*) are printed twice as k has range\n",
    "#a-i which evaluates to 2 so 2 stars are printed as this k for loop runs twice.... after that print statement is executed which takes\n",
    "#control to a new line, here i becomes 2 , so j prints 2 empty spaces at 0 and 1, now in next k for loop the range is 3-2=1 so 1 star gets\n",
    "#printed after which print() statement is executed for the new line and then execution of next for loop starts on the same lines\n",
    "#"
   ]
  },
  {
   "cell_type": "code",
   "execution_count": null,
   "id": "0326fedd",
   "metadata": {},
   "outputs": [],
   "source": [
    "#procedure linearsearch(array,value):\n",
    "#    for each item in the array:\n",
    "#            if match item==value:\n",
    "#                return item's location\n",
    "#            end if\n",
    "#    end for\n",
    "#end procedure"
   ]
  },
  {
   "cell_type": "code",
   "execution_count": 2,
   "id": "1bb336ec",
   "metadata": {},
   "outputs": [
    {
     "name": "stdout",
     "output_type": "stream",
     "text": [
      "2\n",
      "32\n"
     ]
    }
   ],
   "source": [
    "m=\"\"\n",
    "m='2'+m\n",
    "print(m)\n",
    "m='3'+m\n",
    "print(m)"
   ]
  },
  {
   "cell_type": "code",
   "execution_count": 3,
   "id": "9860a6eb",
   "metadata": {},
   "outputs": [
    {
     "name": "stdout",
     "output_type": "stream",
     "text": [
      "2\n",
      "23\n"
     ]
    }
   ],
   "source": [
    "m=\"\"\n",
    "m=m+'2'\n",
    "print(m)\n",
    "m=m+'3'\n",
    "print(m)"
   ]
  },
  {
   "cell_type": "code",
   "execution_count": 4,
   "id": "0da4133f",
   "metadata": {},
   "outputs": [],
   "source": [
    "def inttostring(i):\n",
    "    digit=\"0123456789\"\n",
    "    if i==0:\n",
    "        return 0\n",
    "    result=\"\"\n",
    "    while i>0:\n",
    "        result=digit[i%10]+result\n",
    "        i=i//10\n",
    "    return result\n",
    "#logrithmic time complexity as if instead of 123 we pass 1230(which is 10 times of the initial input), then the while runs 1 more time\n",
    "#similarly when we pass a input 100 times larger then the while loop runs 2 more times, so the time complexity increases on logrithmic\n",
    "#scale, "
   ]
  },
  {
   "cell_type": "code",
   "execution_count": 5,
   "id": "9db7485e",
   "metadata": {},
   "outputs": [
    {
     "data": {
      "text/plain": [
       "'123'"
      ]
     },
     "execution_count": 5,
     "metadata": {},
     "output_type": "execute_result"
    }
   ],
   "source": [
    "inttostring(123)"
   ]
  },
  {
   "cell_type": "code",
   "execution_count": 2,
   "id": "fa6edab9",
   "metadata": {},
   "outputs": [
    {
     "name": "stdout",
     "output_type": "stream",
     "text": [
      "[3, 8, 10, 20, 100, 199]\n"
     ]
    }
   ],
   "source": [
    "#bubble sort\n",
    "l1=[20,10,100,3,8,199]\n",
    "for i in range(1,len(l1)):\n",
    "    for j in range(0,len(l1)-1):\n",
    "        if l1[j]>l1[j+1]:\n",
    "            temp=l1[j]\n",
    "            l1[j]=l1[j+1]\n",
    "            l1[j+1]=temp\n",
    "print(l1)"
   ]
  },
  {
   "cell_type": "code",
   "execution_count": 11,
   "id": "ca9ad31a",
   "metadata": {},
   "outputs": [
    {
     "name": "stdout",
     "output_type": "stream",
     "text": [
      "[3, 8, 10, 20, 100, 199]\n"
     ]
    }
   ],
   "source": [
    "#bubble sort\n",
    "l1=[20,10,100,3,8,199]\n",
    "for i in range(1,len(l1)-1):\n",
    "    for j in range(len(l1)-1):\n",
    "        if l1[j]>l1[j+1]:\n",
    "            l1[j],l1[j+1]=l1[j+1],l1[j]\n",
    "print(l1)\n",
    "#"
   ]
  },
  {
   "cell_type": "code",
   "execution_count": 7,
   "id": "12ff2a4a",
   "metadata": {},
   "outputs": [
    {
     "name": "stdout",
     "output_type": "stream",
     "text": [
      "[3, 5, 10, 14, 25, 35]\n"
     ]
    }
   ],
   "source": [
    "l1=[25,35,14,10,5,3]\n",
    "for i in range(0,len(l1)):\n",
    "    for j in range(0,len(l1)-i-1):\n",
    "        if l1[j]>l1[j+1]:\n",
    "            l1[j],l1[j+1]=l1[j+1],l1[j]\n",
    "print(l1)\n",
    "#we use len(l1)-i-1 here to remove the unecessary running of the loops as with the end of each i for loop 1 number is sorted at the\n",
    "#end, so we don't need to uneccessarily run loop as many times"
   ]
  },
  {
   "cell_type": "code",
   "execution_count": 10,
   "id": "aac8f228",
   "metadata": {},
   "outputs": [
    {
     "name": "stdout",
     "output_type": "stream",
     "text": [
      "[3, 8, 10, 20, 100, 199]\n"
     ]
    }
   ],
   "source": [
    "l1=[20,10,100,3,8,199]\n",
    "i=0\n",
    "swap=True\n",
    "while swap:\n",
    "    swap=False\n",
    "    for j in range(len(l1)-i-1):\n",
    "        if l1[j]>l1[j+1]:\n",
    "            l1[j],l1[j+1]=l1[j+1],l1[j]\n",
    "            swap=True\n",
    "    i+=1\n",
    "print(l1)\n",
    "#After the end of each loop swap is made True and when swap becomes false after completion of any of the j for loop then the execution\n",
    "#immediately stops unlike the last code where the i for loop would have continued till last"
   ]
  },
  {
   "cell_type": "code",
   "execution_count": 12,
   "id": "db02bf8c",
   "metadata": {},
   "outputs": [
    {
     "name": "stdout",
     "output_type": "stream",
     "text": [
      "[3, 5, 10, 15, 25, 35]\n"
     ]
    }
   ],
   "source": [
    "l1=[25,35,15,10,5,3]\n",
    "i=0\n",
    "swap=True\n",
    "while swap:\n",
    "    swap=False\n",
    "    for j in range(len(l1)-i-1):\n",
    "        if l1[j]>l1[j+1]:\n",
    "            l1[j],l1[j+1]=l1[j+1],l1[j]\n",
    "            swap=True\n",
    "    i+=1\n",
    "print(l1)"
   ]
  },
  {
   "cell_type": "code",
   "execution_count": 13,
   "id": "715488f0",
   "metadata": {},
   "outputs": [],
   "source": [
    "def selection_sort(array):\n",
    "    length=len(array)\n",
    "    for i in range(length-1):\n",
    "        min_index=i\n",
    "        for j in range(i+1,length):\n",
    "            if array[j]<array[min_index]:\n",
    "                min_index=j\n",
    "        array[i],array[min_index]=array[min_index],array[i]\n",
    "    return array\n",
    "#[100,4,30,6,99]\n",
    "#  0   1 2  3 4 \n",
    "#min_index=0.... \n",
    "#when i=0,j=1\n",
    "#array[1]<array[0] which is true so min_index=1\n",
    "#when i=0, j=2\n",
    "#array[2]<array[1] which is false so min_index remains 1\n",
    "#when i=0, j=3\n",
    "#array[3]<array[1] which is false so min_index remains 1\n",
    "#when i=0, j=4\n",
    "#array[4]<array[1] which is false so min_index remains 1\n",
    "#after this for j loop ends\n",
    "#and array[0] and array[1] gets interchanged so new array is [4,100,30,6,99]\n",
    "#now i becomes 1 and min_index too is at position 1 \n",
    "#now j=2 ,i=1\n",
    "#array[2]<array[1] which is true and so min_index becomes 2\n",
    "#now j=3, i=1\n",
    "#array[3]<array[min_index](array[2]) which is true so min_index becomes 3\n",
    "#now j=4, i=1\n",
    "#array[4]<array[min_index](array[3]) which is false hence min_index remains 3\n",
    "#after this j for loop ends and array[1] and array[3] gets exchanged so new array is [4,6,30,100,99]\n",
    "#now i=2 and min_index=2\n",
    "#so j=3 and i=2\n",
    "#array[3]<array[2] which is false so min_index remains 2\n",
    "#now j=4 and i=2\n",
    "#array[4]<array[2] which is false so min_index remains 2\n",
    "#now j for loop ends but as i is 2 and min_index too is 2 so no swapping happens\n",
    "#now i=3 and min_index=3\n",
    "#now j=4 and i=3\n",
    "#array[4]<array[3](99<100) which is true so min_index becomes 4\n",
    "#now j for loop ends and array[3] and array[4] gets swapped, the new array is [4,6,30,99,100]\n",
    "#now the array has already been sorted"
   ]
  },
  {
   "cell_type": "code",
   "execution_count": 14,
   "id": "4566a51f",
   "metadata": {},
   "outputs": [
    {
     "data": {
      "text/plain": [
       "[4, 6, 30, 99, 100]"
      ]
     },
     "execution_count": 14,
     "metadata": {},
     "output_type": "execute_result"
    }
   ],
   "source": [
    "selection_sort([100,4,30,6,99])"
   ]
  },
  {
   "cell_type": "code",
   "execution_count": 15,
   "id": "7ad83e2b",
   "metadata": {},
   "outputs": [
    {
     "data": {
      "text/plain": [
       "[3, 8, 10, 20, 100, 199]"
      ]
     },
     "execution_count": 15,
     "metadata": {},
     "output_type": "execute_result"
    }
   ],
   "source": [
    "selection_sort([20,10,100,3,8,199])"
   ]
  },
  {
   "cell_type": "code",
   "execution_count": 1,
   "id": "0fbe3962",
   "metadata": {},
   "outputs": [
    {
     "name": "stdout",
     "output_type": "stream",
     "text": [
      "[3, 5, 10, 15, 25, 35]\n"
     ]
    }
   ],
   "source": [
    "#insertion sort\n",
    "l1=[25,35,15,10,5,3]\n",
    "for i in range(len(l1)):\n",
    "    if i>0:\n",
    "        for j in range(i):\n",
    "            if l1[i]<l1[j]:\n",
    "                l1[i],l1[j]=l1[j],l1[i]\n",
    "print(l1)\n",
    "        "
   ]
  },
  {
   "cell_type": "code",
   "execution_count": 2,
   "id": "eabbcc26",
   "metadata": {},
   "outputs": [
    {
     "name": "stdout",
     "output_type": "stream",
     "text": [
      "[4, 6, 30, 99, 100]\n"
     ]
    }
   ],
   "source": [
    "#insertion sort\n",
    "l1=[100,4,30,6,99]\n",
    "for i in range(len(l1)):\n",
    "    if i>0:\n",
    "        for j in range(i):\n",
    "            if l1[i]<l1[j]:\n",
    "                l1[i],l1[j]=l1[j],l1[i]\n",
    "print(l1)"
   ]
  },
  {
   "cell_type": "code",
   "execution_count": 3,
   "id": "81ce2155",
   "metadata": {},
   "outputs": [
    {
     "name": "stdout",
     "output_type": "stream",
     "text": [
      "[3, 8, 10, 20, 100, 199]\n"
     ]
    }
   ],
   "source": [
    "#insertion sort\n",
    "l1=[20,10,100,3,8,199]\n",
    "for i in range(len(l1)):\n",
    "    if i>0:\n",
    "        for j in range(i):\n",
    "            if l1[i]<l1[j]:\n",
    "                l1[i],l1[j]=l1[j],l1[i]\n",
    "print(l1)\n"
   ]
  },
  {
   "cell_type": "code",
   "execution_count": 10,
   "id": "9dadc13b",
   "metadata": {},
   "outputs": [
    {
     "name": "stdout",
     "output_type": "stream",
     "text": [
      "[3, 10, 15, 25, 54]\n"
     ]
    }
   ],
   "source": [
    "l1=[25,15,10,54,3]\n",
    "for i in range(1,len(l1)):\n",
    "    key=l1[i]\n",
    "    j=i-1\n",
    "    while j>=0 and key<l1[j]:\n",
    "        l1[j+1]=l1[j]\n",
    "        j=j-1\n",
    "        l1[j+1]=key\n",
    "print(l1)\n",
    "#i=1 key=15,j=0, while is true so l1[1]=l1[0] so l1[1]=25,j=-1 and l1[0]=15 so new array is [15,25,10,54,3] and as while loop fails\n",
    "#because of j being -1 so we come out of loop and i is incremented now to 2\n",
    "#key=l1[2](10), j=1, while is true as j>=0 and 10<25 so l1[2]=25 and j=0 and l1[1]=10 new array is [15,10,25,54,3] and as while loop\n",
    "#is still true(j>=0 and 10<l1[0](15)) so l1[1]=l1[0](15),j=-1,l1[0]=key(10), new array is [10,15,25,54,3] now while condition is false\n",
    "#and we come out of the loop, now i is incremented to 3 and j=2 ,key=54 but while is not true so i is incremented again i=4, key=l1[4]\n",
    "#3=l1[4], j=3, j is greater than or equal to zero and 3<l1[3] is true too so l1[4]=54, j=2 and l1[3]=3, [10,15,25,3,54] while loop is\n",
    "#again true as j>=0 and 3<25, l1[3]=25,j=1,l1[2]=3 resultant array is [10,15,3,25,54], while condition is still true as j>=0 and 3<l1[1]\n",
    "#3<15, l1[2]=l1[j](15) and j=0 and l1[1]=3 so resultant array is [10,3,15,25,54], again while holds true as j>=0 and 3<l1[0](10) so\n",
    "#l1[1]=10,j=-1 and l1[0]=3 resultant array is [3,10,15,24,54]"
   ]
  },
  {
   "cell_type": "code",
   "execution_count": 12,
   "id": "d539da99",
   "metadata": {},
   "outputs": [
    {
     "name": "stdout",
     "output_type": "stream",
     "text": [
      "[3, 10, 15, 25, 54]\n"
     ]
    }
   ],
   "source": [
    "l2=[25,15,10,54,3]\n",
    "for i in range(1,len(l2)):\n",
    "    key=l2[i]\n",
    "    j=i-1\n",
    "    while j>=0 and key<l2[j]:\n",
    "        l2[j+1]=l2[j]\n",
    "        j=j-1\n",
    "        l2[j+1]=key\n",
    "print(l2)"
   ]
  },
  {
   "cell_type": "code",
   "execution_count": null,
   "id": "08489ace",
   "metadata": {},
   "outputs": [],
   "source": [
    "l2=[25,15,10,54,3]\n",
    "for i in range(1,len(l2)):\n",
    "    key=l2[i]\n",
    "    j=i-1\n",
    "    while j>=0 and key<l2[j]:\n",
    "        l2[j+1]=l2[j]\n",
    "        j=j-1\n",
    "        l2[j+1]=key"
   ]
  },
  {
   "cell_type": "code",
   "execution_count": 16,
   "id": "f063940e",
   "metadata": {},
   "outputs": [],
   "source": [
    "def linearsearch(array,key):\n",
    "    for i in range(len(array)):\n",
    "        print(array[i])\n",
    "        if array[i]==key:\n",
    "            return i\n",
    "    return -1\n",
    "#"
   ]
  },
  {
   "cell_type": "code",
   "execution_count": 19,
   "id": "009e3e23",
   "metadata": {},
   "outputs": [
    {
     "name": "stdout",
     "output_type": "stream",
     "text": [
      "Enter the number: 10\n",
      "25\n",
      "15\n",
      "10\n",
      "match has been found at 2th index\n"
     ]
    }
   ],
   "source": [
    "array=[25,15,10,54,3]\n",
    "key=int(input(\"Enter the number: \"))\n",
    "result=linearsearch(array,key)\n",
    "\n",
    "if result==-1:\n",
    "    print(\"No match found\")\n",
    "else:\n",
    "    print(f\"match has been found at {result}th index\")"
   ]
  },
  {
   "cell_type": "code",
   "execution_count": 20,
   "id": "6c7ec157",
   "metadata": {},
   "outputs": [],
   "source": [
    "#binary search\n",
    "def binarysearch(array,key):\n",
    "    low=0\n",
    "    mid=0\n",
    "    high=len(array)-1\n",
    "    while low<=high:\n",
    "        mid=(low+high)//2\n",
    "        if array[mid]<key:\n",
    "            low=mid+1\n",
    "        elif array[mid]>key:\n",
    "            high=mid-1\n",
    "        else:\n",
    "            return mid\n",
    "    return -1\n",
    "#This has a time complexity of the order of O(logn) in the worst case as we are dividing it by a given factor and in the best case\n",
    "#scenario we will have a time complexity of O(n)"
   ]
  },
  {
   "cell_type": "code",
   "execution_count": 23,
   "id": "68e7a2ba",
   "metadata": {},
   "outputs": [
    {
     "name": "stdout",
     "output_type": "stream",
     "text": [
      "Enter the number: 76\n",
      "Match has been found at 8th index\n"
     ]
    }
   ],
   "source": [
    "array=[10,30,70,71,72,73,74,75,76]\n",
    "key=int(input(\"Enter the number: \"))\n",
    "result=binarysearch(array,key)\n",
    "if result==-1:\n",
    "    print(\"No match\")\n",
    "else:\n",
    "    print(f\"Match has been found at {result}th index\")"
   ]
  },
  {
   "cell_type": "code",
   "execution_count": 1,
   "id": "798b0ab0",
   "metadata": {},
   "outputs": [],
   "source": [
    "#recursive binary search\n",
    "def binarysearchrecurs(array,key,low,high):\n",
    "    if low<=high:\n",
    "        mid=(low+high)//2\n",
    "        if array[mid]==key:\n",
    "            return mid\n",
    "        elif array[mid]>key:\n",
    "            return binarysearchrecurs(array,key,low,mid-1)\n",
    "        elif array[mid]<key:\n",
    "            return binarysearchrecurs(array,key,mid+1,high)\n",
    "    else:\n",
    "        return -1"
   ]
  },
  {
   "cell_type": "code",
   "execution_count": 4,
   "id": "23e11d6e",
   "metadata": {},
   "outputs": [
    {
     "name": "stdout",
     "output_type": "stream",
     "text": [
      "Enter the number: 40\n",
      "Match found at 9th index\n"
     ]
    }
   ],
   "source": [
    "array=[3,4,10,20,21,22,25,30,35,40,50,60,70]\n",
    "key=int(input(\"Enter the number: \"))\n",
    "result=binarysearchrecurs(array,key,0,len(array)-1)\n",
    "if result==-1:\n",
    "    print(\"No match found\")\n",
    "else:\n",
    "    print(f\"Match found at {result}th index\")"
   ]
  },
  {
   "cell_type": "code",
   "execution_count": null,
   "id": "728d0eb1",
   "metadata": {},
   "outputs": [],
   "source": [
    "#linked list(a)\n",
    "class node:\n",
    "    def __init__(self,data):\n",
    "        self.data=data\n",
    "        self.next=None\n",
    "\n",
    "class linkedlist:\n",
    "    def __init__(self):\n",
    "        self.head=None\n",
    "    \n",
    "    "
   ]
  },
  {
   "cell_type": "code",
   "execution_count": 36,
   "id": "f0eb90c7",
   "metadata": {},
   "outputs": [],
   "source": [
    "#linked list(b)\n",
    "class Node:\n",
    "    def __init__(self,data):\n",
    "        self.data=data\n",
    "        self.next=None\n",
    "class linkedlist:\n",
    "    def __init__(self):\n",
    "        self.head=None\n",
    "    def insertend(self,data):\n",
    "        node=Node(data)\n",
    "        if self.head==None:\n",
    "            self.head=node\n",
    "        else:\n",
    "            p=self.head\n",
    "            while p.next:\n",
    "                p=p.next\n",
    "            p.next=node\n",
    "    def insertbegin(self,data):\n",
    "        node=Node(data)\n",
    "        if self.head==None:\n",
    "            self.head=node\n",
    "        else:\n",
    "            node.next=self.head\n",
    "            self.head=node\n",
    "    def traverse(self):\n",
    "        p=self.head\n",
    "        while p is not None:\n",
    "            print(p.data)\n",
    "            p=p.next\n",
    "    def insertinmid(self,data,pos):\n",
    "        node=Node(data)\n",
    "        if self.head==None:\n",
    "            self.head=node\n",
    "        elif pos==0:\n",
    "            node.next=self.head\n",
    "            self.head=node\n",
    "        else:\n",
    "            p=self.head\n",
    "            for i in range(1,pos):\n",
    "                p=p.next\n",
    "            node.next=p.next\n",
    "            p.next=node\n",
    "        \n",
    "            \n",
    "        "
   ]
  },
  {
   "cell_type": "code",
   "execution_count": 6,
   "id": "75044759",
   "metadata": {},
   "outputs": [],
   "source": [
    "list1=linkedlist()"
   ]
  },
  {
   "cell_type": "code",
   "execution_count": 21,
   "id": "c79fc63f",
   "metadata": {},
   "outputs": [],
   "source": [
    "list1.insertend(\"onetwo12\")"
   ]
  },
  {
   "cell_type": "code",
   "execution_count": 22,
   "id": "9bc9991b",
   "metadata": {},
   "outputs": [
    {
     "name": "stdout",
     "output_type": "stream",
     "text": [
      "three\n",
      "two\n",
      "fife\n",
      "one\n",
      "one\n",
      "onetwo\n",
      "onetwo1\n"
     ]
    }
   ],
   "source": [
    "list1.traverse()"
   ]
  },
  {
   "cell_type": "code",
   "execution_count": 11,
   "id": "4caf715a",
   "metadata": {},
   "outputs": [],
   "source": [
    "list1.insertbegin(\"three\")"
   ]
  },
  {
   "cell_type": "code",
   "execution_count": 15,
   "id": "83dc3936",
   "metadata": {},
   "outputs": [],
   "source": [
    "list1.insertinmid(\"fife\",2)"
   ]
  },
  {
   "cell_type": "code",
   "execution_count": 24,
   "id": "fb359644",
   "metadata": {},
   "outputs": [],
   "source": [
    "list2=linkedlist()"
   ]
  },
  {
   "cell_type": "code",
   "execution_count": 34,
   "id": "34d5b881",
   "metadata": {},
   "outputs": [],
   "source": [
    "list2.insertend(\"135\")"
   ]
  },
  {
   "cell_type": "code",
   "execution_count": 35,
   "id": "bed8841b",
   "metadata": {},
   "outputs": [
    {
     "name": "stdout",
     "output_type": "stream",
     "text": [
      "132\n",
      "133\n",
      "134\n"
     ]
    }
   ],
   "source": [
    "list2.traverse()"
   ]
  },
  {
   "cell_type": "code",
   "execution_count": 37,
   "id": "9ebe2d57",
   "metadata": {},
   "outputs": [],
   "source": [
    "list3=linkedlist()"
   ]
  },
  {
   "cell_type": "code",
   "execution_count": 38,
   "id": "7ca92d1b",
   "metadata": {},
   "outputs": [],
   "source": [
    "list3.insertend(\"one\")\n",
    "list3.insertend(\"two\")\n",
    "list3.insertend(\"three\")"
   ]
  },
  {
   "cell_type": "code",
   "execution_count": 39,
   "id": "48ea2c75",
   "metadata": {},
   "outputs": [
    {
     "name": "stdout",
     "output_type": "stream",
     "text": [
      "one\n",
      "two\n",
      "three\n"
     ]
    }
   ],
   "source": [
    "list3.traverse()"
   ]
  },
  {
   "cell_type": "code",
   "execution_count": 40,
   "id": "e023b081",
   "metadata": {},
   "outputs": [
    {
     "name": "stdout",
     "output_type": "stream",
     "text": [
      "one\n",
      "two\n",
      "four\n",
      "three\n"
     ]
    }
   ],
   "source": [
    "list5=linkedlist()\n",
    "list5.insertend(\"two\")\n",
    "list5.insertend(\"three\")\n",
    "list5.insertbegin(\"one\")\n",
    "list5.insertinmid(\"four\",2)\n",
    "list5.traverse()"
   ]
  },
  {
   "cell_type": "code",
   "execution_count": 41,
   "id": "cdca31a5",
   "metadata": {},
   "outputs": [],
   "source": [
    "class Node:\n",
    "    def __init__(self,data):\n",
    "        self.data=data\n",
    "        self.next=None\n",
    "class linkedlist:\n",
    "    def __init__(self):\n",
    "        self.head=None\n",
    "    def insertatbegin(self,data):\n",
    "        node=Node(data)#create a object of Node class\n",
    "        if self.head is None:\n",
    "            self.head=node#and self.head which points to None earlier now points at node\n",
    "        else:\n",
    "            node.next=self.head#else if linked list hasnot been created then node.next will point at self.head and self.head will\n",
    "            self.head=node#point at node\n",
    "    def insertend(self,data):\n",
    "        node=Node(data)#in case of this function too we create an object from Node class\n",
    "        if self.head is None:#if no node exists then self.head points towards this newly created node else we initialize variable\n",
    "            self.head=node#p with self.node and loop through nodes until p.next points at None while p.next literally means looping\n",
    "        else:#until while p.next is not None, till then we keep moving further until p=p.next when while loop stops, we would be at\n",
    "            p=self.head#the last node of linked list, after that p.next is made to point at node\n",
    "            while p.next:\n",
    "                p=p.next\n",
    "            p.next=node\n",
    "    def insertatmid(self,data,pos):\n",
    "        node=Node(data)#an object of Node class is made\n",
    "        if self.head is None:#if no node exists at all in the linked list then self.head points out at a node, else if pos==0 then \n",
    "            self.head=node#node.next points at self.head and self.head is made to point at node, else p is made to point at first\n",
    "        elif pos==0:#element of linked list, using p=self.head and then p is made to move further just before the position at which a node\n",
    "            node.next=self.head#is to be added(we are able to reach the node by running the loop 1 time less than the total number of iterations)\n",
    "            self.head=node#at this point, node.next will point at p.next and new p.next will now point at newly created node\n",
    "        else:\n",
    "            p=self.head\n",
    "            for i in range(1,pos):\n",
    "                p=p.next\n",
    "            node.next=p.next\n",
    "            p.next=node\n",
    "    def traverse(self):#lastly to traverse through the linkedlist, we first initialize a variable p with self.head and then move through a\n",
    "        p=self.head#a loop until p is not None and print data of those respective nodes after which p is equated to p.next which points at\n",
    "        while p:#the new node and checks whether p is none or not if p is not none then p.data gets printed and p is moved to p.next, again it is\n",
    "            print(p.data)#checked whether p is none or not and then p.data is printed and p is again made to point at p.next, while p literally means\n",
    "            p=p.next#while p is not None\n",
    "    "
   ]
  },
  {
   "cell_type": "code",
   "execution_count": 42,
   "id": "5c791b10",
   "metadata": {},
   "outputs": [],
   "source": [
    "list7=linkedlist()"
   ]
  },
  {
   "cell_type": "code",
   "execution_count": 43,
   "id": "09ae33fb",
   "metadata": {},
   "outputs": [],
   "source": [
    "list7.insertend(\"one\")\n",
    "list7.insertend(\"two\")\n",
    "list7.insertend(\"three\")"
   ]
  },
  {
   "cell_type": "code",
   "execution_count": 44,
   "id": "9e1fc617",
   "metadata": {},
   "outputs": [
    {
     "name": "stdout",
     "output_type": "stream",
     "text": [
      "one\n",
      "two\n",
      "three\n"
     ]
    }
   ],
   "source": [
    "list7.traverse()"
   ]
  },
  {
   "cell_type": "code",
   "execution_count": 47,
   "id": "e9173d0e",
   "metadata": {},
   "outputs": [
    {
     "name": "stdout",
     "output_type": "stream",
     "text": [
      "one\n",
      "two\n",
      "four\n",
      "three\n"
     ]
    }
   ],
   "source": [
    "list8=linkedlist()\n",
    "list8.insertend(\"two\")\n",
    "list8.insertend(\"three\")\n",
    "list8.insertatbegin(\"one\")\n",
    "list8.insertatmid(\"four\",2)\n",
    "list8.traverse()"
   ]
  },
  {
   "cell_type": "code",
   "execution_count": 10,
   "id": "c138b7f0",
   "metadata": {},
   "outputs": [],
   "source": [
    "class node1:\n",
    "    def __init__(self,data):#This method is called the constructor of a class in python, when an object is created from a class, the\n",
    "        self.data=data#constructor is automatically called, and it initializes the attributes of the object. The self parameter \n",
    "        self.next=None#allows the object to refer to itself and access its own attributes and methods. \n",
    "class linkedlist1:\n",
    "    def __init__(self):\n",
    "        self.head=None\n",
    "    def insertbegin(self,data):\n",
    "        node=node1(data)#node is an object of node1 class\n",
    "        if self.head is None:#if self.head is equal to none or if no node exists then a new node is is formed using self.head=node\n",
    "            self.head=node\n",
    "        else:#else in order to push the newly formed node at the beginning we equate node.next with self.head i.e making 1st node the\n",
    "            node.next=self.head#2nd node and then by equating self.head with node i.e making the newly formed node as first node\n",
    "            self.head=node\n",
    "    def insertatend(self,data):#first a node object is created from node1 class then if no node exists then self.head is equated\n",
    "        node=node1(data)#with the given node else p is equated with self.head and we run a while loop unless p.next becomes none\n",
    "        if self.head is None:#while p.next means the while loop will run until p.next is not None, by the end of this while loop\n",
    "            self.head=node#we reach the last node and then p.next is equated to node as p.next was None earlier\n",
    "        else:\n",
    "            p=self.head\n",
    "            while p.next:\n",
    "                p=p.next\n",
    "            p.next=node\n",
    "    def insertinmid(self,data,pos):\n",
    "        node=node1(data)#node is a object of node1 class and if self.head is None or if no node exists in the linkedlist then\n",
    "        if self.head is None:#self.head is made equivalent to node else when pos==0 then node.next is made equivalent to self.head\n",
    "            self.head=node#and self.head is made equivalent to node so the added item becomes 1st item and old first item becomes\n",
    "        elif pos==0:#second item, else p is made equivalent to first item using p=self.head following which we move further through\n",
    "            node.next=self.head#the linkedlist until we reach the node just prior the node were new node is to be added, then we come\n",
    "            self.head=node#out of the loop and node.next is made equivalent to p.next and p.next is made to = to node\n",
    "        else:\n",
    "            p=self.head\n",
    "            for i in range(1,pos):\n",
    "                p=p.next\n",
    "            node.next=p.next\n",
    "            p.next=node\n",
    "    def traverse(self):#for traversing through the linked list, we first equate p with the first element then loop through the linked list\n",
    "        p=self.head#until p becomes None, \n",
    "        while p:\n",
    "            print(p.data)\n",
    "            p=p.next\n",
    "    def removefrombegin(self):#To remove a node from the beginning we make self.head equivalent to self.head.next, first node is \n",
    "        self.head=self.head.next#skipped altogether in the process\n",
    "    def removefromend(self):#to remove a node from the end, we first initialize 2 variables with self.head and then we make a loop\n",
    "        prev=self.head#such that prev is equated with current and current is equated with current.next such that prev will always\n",
    "        current=self.head#be a previous element and current will be next element, this continues until current becomes last element\n",
    "        while current.next:#and next becomes element just before last element, at this point current.next becomes None and we come\n",
    "            prev=current#out of the while loop where prev.next is equated to None and the last element(current) is skipped altogether\n",
    "            current=current.next\n",
    "        prev.next=None\n",
    "    def reverse(self):#in order to reverse, prev and next variables are initialized with None and a while loop is run where\n",
    "        prev=None#next is equated with self.head.next,self.head.next is equated with prev(None in first case), prev is now equated\n",
    "        next_node=None#with self.head and self.head is equated with next, at least self.head and next becomes None and self.head\n",
    "        while self.head:#becomes equal to prev(after coming out of the loop)\n",
    "            next_node=self.head.next\n",
    "            self.head.next=prev\n",
    "            prev=self.head\n",
    "            self.head=next_node\n",
    "        self.head=prev\n",
    "    def checkloop(self):#we first declare 2 variables slow_ptr and fast_ptr and initialize it self.head after which we run a loop\n",
    "        slow_ptr,fast_ptr=self.head#till both of them is not None, if either of them becomes None then we come out of the loop\n",
    "        while slow_ptr and fast_ptr is not None:\n",
    "            slow_ptr=slow_ptr.next#increments by one\n",
    "            fast_ptr=fast_ptr.next.next#increments by 2\n",
    "            if slow_ptr==fast_ptr:#if they become equal then return True\n",
    "                return True\n",
    "        return False#if by the end of while loop, we are not able to find even a single point where slow_ptr equals fast_ptr\n",
    "    #then false is returned\n",
    "            \n",
    "            \n",
    "            "
   ]
  },
  {
   "cell_type": "code",
   "execution_count": 4,
   "id": "db84c659",
   "metadata": {},
   "outputs": [
    {
     "name": "stdout",
     "output_type": "stream",
     "text": [
      "ONE\n",
      "TWO\n",
      "THREE\n"
     ]
    }
   ],
   "source": [
    "list1=linkedlist1()\n",
    "list1.insertatend(\"ONE\")\n",
    "list1.insertatend(\"TWO\")\n",
    "list1.insertatend(\"THREE\")\n",
    "list1.traverse()"
   ]
  },
  {
   "cell_type": "code",
   "execution_count": 5,
   "id": "7f08259b",
   "metadata": {},
   "outputs": [
    {
     "name": "stdout",
     "output_type": "stream",
     "text": [
      "ONE\n",
      "TWO\n",
      "THREE\n"
     ]
    }
   ],
   "source": [
    "list2=linkedlist1()\n",
    "list2.insertatend(\"TWO\")\n",
    "list2.insertatend(\"THREE\")\n",
    "list2.insertbegin(\"ONE\")\n",
    "list2.traverse()"
   ]
  },
  {
   "cell_type": "code",
   "execution_count": 6,
   "id": "e582551c",
   "metadata": {},
   "outputs": [
    {
     "name": "stdout",
     "output_type": "stream",
     "text": [
      "ONE\n",
      "TWO\n",
      "FOUR\n",
      "THREE\n"
     ]
    }
   ],
   "source": [
    "list2.insertinmid(\"FOUR\",2)\n",
    "list2.traverse()"
   ]
  },
  {
   "cell_type": "code",
   "execution_count": 7,
   "id": "100b3d6f",
   "metadata": {
    "scrolled": true
   },
   "outputs": [
    {
     "name": "stdout",
     "output_type": "stream",
     "text": [
      "TWO\n",
      "FOUR\n",
      "THREE\n"
     ]
    }
   ],
   "source": [
    "list2.removefrombegin()\n",
    "list2.traverse()"
   ]
  },
  {
   "cell_type": "code",
   "execution_count": 8,
   "id": "1c80f211",
   "metadata": {},
   "outputs": [
    {
     "name": "stdout",
     "output_type": "stream",
     "text": [
      "TWO\n",
      "FOUR\n"
     ]
    }
   ],
   "source": [
    "list2.removefromend()\n",
    "list2.traverse()"
   ]
  },
  {
   "cell_type": "code",
   "execution_count": 9,
   "id": "dd962c52",
   "metadata": {},
   "outputs": [
    {
     "name": "stdout",
     "output_type": "stream",
     "text": [
      "FOUR\n",
      "TWO\n"
     ]
    }
   ],
   "source": [
    "list2.reverse()\n",
    "list2.traverse()"
   ]
  },
  {
   "cell_type": "code",
   "execution_count": 28,
   "id": "b2accd7a",
   "metadata": {},
   "outputs": [],
   "source": [
    "class node2:\n",
    "    def __init__(self,data):#node of double linked list has 3 attributes, data, prev(containing address of previous node) and next\n",
    "        self.data=data#(containing address of next node)\n",
    "        self.prev=None\n",
    "        self.next=None\n",
    "class doublelinked:#doublelinked class- in this class just one attribute head is initialized with None\n",
    "    def __init__(self):\n",
    "        self.head=None\n",
    "    def append(self,data):#A node object is created from node2 class, if self.head is None the self.head is initialized with newly\n",
    "        node=node2(data)#created object of node2 class, if self.head is None(or if no node exists) then self.head is initialized with\n",
    "        if self.head is None:#node(newly created object of node2 class)\n",
    "            self.head=node#else if double linked list is not empty then p is initialized with self.head(first node) and then we\n",
    "        else:#keep moving forward until we reach till the last, when we reach the last we make p.next equivalent to node and node.prev\n",
    "            p=self.head#is made equivalent to p\n",
    "            while p.next:\n",
    "                p=p.next\n",
    "            p.next=node\n",
    "            node.prev=p\n",
    "    def traverse(self):#p is made equivalent to self.head and then we enter a loop which runs until a node exists, we wont use \n",
    "        p=self.head#p.next as while condition as that will not print the data of last node, the while loop will end much earlier\n",
    "        while p:\n",
    "            print(p.data)\n",
    "            p=p.next\n",
    "    def deleteatbeg(self):#if no node exists in the linked list then we print something, if one node exists then we make self.head=None\n",
    "        if self.head is None:#else we equate self.head with self.head.next and then self.head.prev is equated as None\n",
    "            print(\"No nodes are present\")\n",
    "        elif self.head.next is None:\n",
    "            self.head=None\n",
    "        else:\n",
    "            self.head=self.head.next\n",
    "            self.head.prev=None\n",
    "    def deleteatend(self):#if no node exists the self.head is None and in that case a print statement gets printed else we have\n",
    "        if self.head is None:#to find if only one element exists in the linked list because if only 1 element exists in the linkedlist\n",
    "            print(\"No node exists\")#p.next will be None and while loop will not run and p.prev too is None so p.prev.next would\n",
    "        elif self.head.next is None:#give you an error hence we have to put forward one more condition, lastly in else condition\n",
    "            self.head=self.head.next#p is first equated to self.head, then using while loop we reach till the last node where\n",
    "        else:#p.next would become None and at that point we come out of while loop and equate p.prev.next equivalent to None which\n",
    "            p=self.head#would make the last node useless\n",
    "            while p.next:\n",
    "                p=p.next\n",
    "            p.prev.next=None"
   ]
  },
  {
   "cell_type": "code",
   "execution_count": 29,
   "id": "b1bca33f",
   "metadata": {},
   "outputs": [
    {
     "name": "stdout",
     "output_type": "stream",
     "text": [
      "10\n",
      "20\n",
      "30\n",
      "40\n"
     ]
    }
   ],
   "source": [
    "dll=doublelinked()\n",
    "dll.append(10)\n",
    "dll.append(20)\n",
    "dll.append(30)\n",
    "dll.append(40)\n",
    "dll.traverse()"
   ]
  },
  {
   "cell_type": "code",
   "execution_count": 30,
   "id": "efd88aac",
   "metadata": {},
   "outputs": [
    {
     "name": "stdout",
     "output_type": "stream",
     "text": [
      "20\n",
      "30\n",
      "40\n"
     ]
    }
   ],
   "source": [
    "dll2=doublelinked()\n",
    "dll2.append(10)\n",
    "dll2.deleteatbeg()\n",
    "dll2.append(20)\n",
    "dll2.append(30)\n",
    "dll2.append(40)\n",
    "dll2.traverse()"
   ]
  },
  {
   "cell_type": "code",
   "execution_count": 31,
   "id": "adf18323",
   "metadata": {},
   "outputs": [
    {
     "name": "stdout",
     "output_type": "stream",
     "text": [
      "20\n",
      "30\n"
     ]
    }
   ],
   "source": [
    "dll3=doublelinked()\n",
    "dll3.append(10)\n",
    "dll3.append(20)\n",
    "dll3.append(30)\n",
    "dll3.append(40)\n",
    "dll3.deleteatbeg()\n",
    "dll3.deleteatend()\n",
    "dll3.traverse() "
   ]
  },
  {
   "cell_type": "code",
   "execution_count": 32,
   "id": "f164871f",
   "metadata": {},
   "outputs": [],
   "source": [
    "dll4=doublelinked()\n",
    "dll4.append(10)\n",
    "dll4.deleteatend()\n",
    "dll4.traverse()"
   ]
  },
  {
   "cell_type": "code",
   "execution_count": 33,
   "id": "e59282e9",
   "metadata": {},
   "outputs": [],
   "source": [
    "#stack is a last in first out data structure which is equivalent to stack of plates with the plates put one after the other, such that\n",
    "#if a plate is put at last, it can be removed out at the first instance\n",
    "#inserting an element on top of stack is called push operation, top gets incremented and an element is pushed into stack, deletion\n",
    "#means pop, in this case element where top is pointing gets decremented and top is decremented by one\n",
    "#If we try to push into a stack that is already full, we will meet a overflow condition, if we try to pop from a stack that is already\n",
    "#empty, we will meet a underflow condition\n",
    "#operations\n",
    "#size-Number of elements in the stack\n",
    "#top/peek-Gives element to which top is pointing to, in case of pop wherever pop is pointing to the element will be deleted and top\n",
    "#will be moved to previous index\n",
    "#isEmpty-will return if the stack is empty\n",
    "#isFull-will return if the stack is Full"
   ]
  },
  {
   "cell_type": "code",
   "execution_count": 34,
   "id": "4b73d246",
   "metadata": {},
   "outputs": [
    {
     "name": "stdout",
     "output_type": "stream",
     "text": [
      "1\n",
      "2\n",
      "rana\n",
      "4\n",
      "5\n"
     ]
    }
   ],
   "source": [
    "numbers = [1, 2, 3, 4, 5]\n",
    "\n",
    "for num in numbers:\n",
    "    if num == 3:\n",
    "        print(\"rana\")\n",
    "        continue  # Skip the remaining code in this iteration if the number is 3\n",
    "    if num==3:\n",
    "        print(\"kumbha\")\n",
    "    print(num)\n",
    "#when we write continue within a if condition then the control will not go to subsequent statements and hence when num==3 then \"rana\"\n",
    "#will get printed but control will not go to the code below hence \"kumbha\" and num won't get printed\n",
    "# Output: 1 2 4 5\n"
   ]
  },
  {
   "cell_type": "code",
   "execution_count": 35,
   "id": "5654346c",
   "metadata": {},
   "outputs": [
    {
     "name": "stdout",
     "output_type": "stream",
     "text": [
      "1\n",
      "2\n",
      "rana\n",
      "3\n",
      "4\n",
      "5\n"
     ]
    }
   ],
   "source": [
    "numbers = [1, 2, 3, 4, 5]\n",
    "\n",
    "for num in numbers:\n",
    "    if num == 3:\n",
    "        print(\"rana\")  # Skip the remaining code in this iteration if the number is 3\n",
    "    print(num)\n",
    "#similarly when num==3 then num won't get printed\n",
    "# Output: 1 2 4 5\n"
   ]
  },
  {
   "cell_type": "code",
   "execution_count": 1,
   "id": "ec5f3d65",
   "metadata": {},
   "outputs": [],
   "source": [
    "class stack:\n",
    "    def __init__(self,size):#class stack has 3 attributes stack, capacity and top , top is initially equal to -1 as top is reference\n",
    "        self.stack=[]#to index, and as no item has been added so top is still -1\n",
    "        self.capacity=size\n",
    "        self.top=-1\n",
    "    def size(self):#size would be top+1 as top+1 would give the actual size\n",
    "        return self.top+1\n",
    "    def isEmpty(self):#if self.size()==0 then this function will return True\n",
    "        return self.size()==0\n",
    "    def isFull(self):#if self.size()==self.capacity then this function will return True\n",
    "        return self.size()==self.capacity\n",
    "    def push(self,data):#if push function is called then self.stack.append(data), a data is appended in stack and then self.top+=1\n",
    "        self.stack.append(data)\n",
    "        self.top+=1\n",
    "    def pop(self):#if self.isEmpty() function returns True then a print statement is printed else self.top is decremented by one and\n",
    "        if self.isEmpty():#self.stack.pop() is done and last element to be added is removed\n",
    "            return \"The stack is empty\"\n",
    "        else:\n",
    "            self.top-=1\n",
    "            return self.stack.pop()\n",
    "    def peek(self):#if self.isEmpty() evolves to be True then we return a print statement else the top most element is returned using\n",
    "        if self.isEmpty():#self.stack[self.top] where self.top acts as index \n",
    "            return \"Empty\"\n",
    "        else:\n",
    "            return self.stack[self.top]\n",
    " #Time complexity of all these operations(functions) is O(1)   "
   ]
  },
  {
   "cell_type": "code",
   "execution_count": 2,
   "id": "967be62c",
   "metadata": {},
   "outputs": [
    {
     "name": "stdout",
     "output_type": "stream",
     "text": [
      "Thu\n",
      "Wed\n",
      "Tue\n",
      "Mon\n",
      "The stack is empty\n"
     ]
    }
   ],
   "source": [
    "stack1=stack(4)\n",
    "stack1.push(\"Mon\")\n",
    "stack1.push(\"Tue\")\n",
    "stack1.push(\"Wed\")\n",
    "stack1.push(\"Thu\")\n",
    "print(stack1.pop())\n",
    "print(stack1.pop())\n",
    "print(stack1.pop())\n",
    "print(stack1.pop())\n",
    "print(stack1.pop())"
   ]
  },
  {
   "cell_type": "code",
   "execution_count": 3,
   "id": "daf9deb9",
   "metadata": {},
   "outputs": [
    {
     "data": {
      "text/plain": [
       "'Wed'"
      ]
     },
     "execution_count": 3,
     "metadata": {},
     "output_type": "execute_result"
    }
   ],
   "source": [
    "stack2=stack(4)\n",
    "stack2.push(\"Mon\")\n",
    "stack2.push(\"Tue\")\n",
    "stack2.push(\"Wed\")\n",
    "stack2.push(\"Thu\")\n",
    "stack2.pop()\n",
    "stack2.peek()"
   ]
  },
  {
   "cell_type": "code",
   "execution_count": 4,
   "id": "5c3e431f",
   "metadata": {},
   "outputs": [],
   "source": [
    "def stringreverser(a):#firstly an object of stack class is created called stackstr after which we traverse through each item of \n",
    "    stackstr=stack(len(a))#the input string and keep adding each element to stack attribute of stackstr object, now a variable \n",
    "    for i in a:#called reverse is initialized with empty string, now a loop is run which has a range of stackstr.capacity and\n",
    "        stackstr.push(i)#we keep popping out each element from stackstr object using pop() function and keep adding it to a variable\n",
    "    reverse=\"\"#called reverse\n",
    "    for j in range(stackstr.capacity):\n",
    "        reverse+=stackstr.pop()\n",
    "    print(reverse)"
   ]
  },
  {
   "cell_type": "code",
   "execution_count": 5,
   "id": "30198638",
   "metadata": {
    "scrolled": false
   },
   "outputs": [
    {
     "name": "stdout",
     "output_type": "stream",
     "text": [
      "malayalam\n"
     ]
    }
   ],
   "source": [
    "stringreverser(\"malayalam\")"
   ]
  },
  {
   "cell_type": "code",
   "execution_count": 6,
   "id": "5c82bee0",
   "metadata": {},
   "outputs": [],
   "source": [
    "def balancechecker(a):\n",
    "    stackbal=stack(len(a))\n",
    "    for i in a:\n",
    "        if i in '(' or i in '[' or i in '{':\n",
    "            stackbal.push(i)\n",
    "            continue\n",
    "        y=stackbal.pop()\n",
    "        if i in ')':\n",
    "            if y in '{' or y in '[':\n",
    "                return False\n",
    "        if i in '}':\n",
    "            if y in '(' or y in '[':\n",
    "                return False\n",
    "        if i in ']':\n",
    "            if y in '{' or y in '(':\n",
    "                return False\n",
    "    return stackbal.isEmpty()"
   ]
  },
  {
   "cell_type": "code",
   "execution_count": 7,
   "id": "9973f971",
   "metadata": {
    "scrolled": true
   },
   "outputs": [
    {
     "data": {
      "text/plain": [
       "True"
      ]
     },
     "execution_count": 7,
     "metadata": {},
     "output_type": "execute_result"
    }
   ],
   "source": [
    "balancechecker('({[]})))')"
   ]
  },
  {
   "cell_type": "code",
   "execution_count": 17,
   "id": "6371e252",
   "metadata": {},
   "outputs": [],
   "source": [
    "def balancechecker1(a):\n",
    "    stackbal1=stack(len(a))\n",
    "    for i in a:\n",
    "        if i in '(' or i in '[' or i in '{':\n",
    "            stackbal1.push(i)\n",
    "            continue\n",
    "        if stackbal1.isEmpty():\n",
    "            return False\n",
    "        y=stackbal1.pop()\n",
    "        if i in ')':\n",
    "            if y in '{' or y in '[':\n",
    "                return False\n",
    "        if i in '}':\n",
    "            if y in '(' or y in '[':\n",
    "                return False\n",
    "        if i in ']':\n",
    "            if y in '(' or y in '{':\n",
    "                return False\n",
    "    return stackbal1.isEmpty()\n",
    "   "
   ]
  },
  {
   "cell_type": "code",
   "execution_count": 23,
   "id": "45511105",
   "metadata": {},
   "outputs": [
    {
     "data": {
      "text/plain": [
       "False"
      ]
     },
     "execution_count": 23,
     "metadata": {},
     "output_type": "execute_result"
    }
   ],
   "source": [
    "balancechecker1('({][)')"
   ]
  },
  {
   "cell_type": "code",
   "execution_count": 24,
   "id": "1f57c5e7",
   "metadata": {},
   "outputs": [],
   "source": [
    "#when i is '(', '{' or '[' then the respective item is pushed in and beacuse of continue statement till the time these conditions \n",
    "#are true those items will be pushed in, if the initial items are not opening brackets the stack of stackball1 object will be empty\n",
    "#and False will be returned immediately, if stack attribute of stackball1 object is empty even while for loop is running that is\n",
    "#({{}})) if there is an extra closing bracket then the loop will keep running but the stack will be empty before that and as stackbal1.isEmpty()\n",
    "#will evaluate to True so False is returned \n",
    "#when we pass '({[]})' this as input then till the time i is in closing brackets then till that time those brackets keep getting pushed in\n",
    "#stack after which one item each getting popped out and getting compared accordingly, lastly after the end of for loop if stack\n",
    "#attribute of stackball1 object is empty then True gets returned else if stack attribute of stackball1 object becomes empty before the end of \n",
    "#for loop then False is returned"
   ]
  },
  {
   "cell_type": "code",
   "execution_count": 25,
   "id": "7e29d817",
   "metadata": {},
   "outputs": [],
   "source": [
    "#Queue is a FIRST IN FIRST OUT datastructure(FIFO) where data is added to the rear of the queue and is deleted from the front of\n",
    "#the queue , example of queue is people standing in line to board a bus or a flight, people can be added from backside in this case and deleted\n",
    "#from front, Adding data to the queue is called Enqueue,both front and rear is initialized with the first element but then the rear moves\n",
    "#forward as we add new elements and front remains at the same position \n",
    "#Deleting elements is called Dqueue in this case, front pointer will be incremented\n",
    "#apart from Enqueue and Dequeue operations we also have front,size and isEmpty operations, in case of front operation it returns \n",
    "#the element at which front is pointing"
   ]
  },
  {
   "cell_type": "code",
   "execution_count": 26,
   "id": "3cbb93bb",
   "metadata": {},
   "outputs": [],
   "source": [
    "class Queue:\n",
    "    def __init__(self):\n",
    "        self.queue=[]\n",
    "    def size(self):\n",
    "        return len(self.queue)\n",
    "    def Enqueue(self,data):\n",
    "        self.queue.append(data)\n",
    "    def Dequeue(self):\n",
    "        if self.size()<1:\n",
    "            return None\n",
    "        else:\n",
    "            self.queue.pop(0)\n",
    "    def front(self):\n",
    "        return self.queue[0]\n",
    "    def display(self):\n",
    "        return self.queue\n",
    "#All these operations have a constant time complexity O(1)"
   ]
  },
  {
   "cell_type": "code",
   "execution_count": 27,
   "id": "a8b33311",
   "metadata": {},
   "outputs": [
    {
     "data": {
      "text/plain": [
       "[2, 3, 4]"
      ]
     },
     "execution_count": 27,
     "metadata": {},
     "output_type": "execute_result"
    }
   ],
   "source": [
    "q=Queue()\n",
    "q.Enqueue(1)\n",
    "q.Enqueue(2)\n",
    "q.Enqueue(3)\n",
    "q.Enqueue(4)\n",
    "q.display()\n",
    "q.Dequeue()\n",
    "q.display()"
   ]
  },
  {
   "cell_type": "code",
   "execution_count": 28,
   "id": "c5aab577",
   "metadata": {},
   "outputs": [
    {
     "data": {
      "text/plain": [
       "[1, 2, 3, 4]"
      ]
     },
     "execution_count": 28,
     "metadata": {},
     "output_type": "execute_result"
    }
   ],
   "source": [
    "q1=Queue()\n",
    "q1.Enqueue(1)\n",
    "q1.Enqueue(2)\n",
    "q1.Enqueue(3)\n",
    "q1.Enqueue(4)\n",
    "q1.display()"
   ]
  },
  {
   "cell_type": "code",
   "execution_count": 29,
   "id": "4a20c56d",
   "metadata": {},
   "outputs": [],
   "source": [
    "#A non linear datastructure refers to the data organization method where the elements are not arranged in a linear sequential manner.\n",
    "#In other words it means that the elements of data structure are not linked or accessed in a sequential order like a list or an array.\n",
    "#Examples of non linear data structures include heaps,trees. \n",
    "#Tree is a nonlinear datastructure where each node points to multiple other nodes  The root of a tree is a node with no parent \n",
    "#Edge represents a connection or link between 2 nodes. It defines the relationship between parent and child nodes in a tree. \n",
    "#In a tree every node except the root node has exactly one incoming edge, which is the edge connecting it to its parent node.\n",
    "#Size of a node is the number of descendants it has including the node itself\n",
    "#size of a node is the number of descendants it has including the node itself\n",
    "#A binary tree is a type of tree data structure in which each node has atmost 2 child nodes(0,1 or 2)\n",
    "#In case of binary search tree the right subtree node will always be greater than the root node while the left subtree node will\n",
    "#always be lesser than the root node."
   ]
  },
  {
   "cell_type": "code",
   "execution_count": 1,
   "id": "630f498e",
   "metadata": {},
   "outputs": [],
   "source": [
    "#processing could mean performing some operation with the data in the node(displaying the data on the console included)\n",
    "#preorder- process data at node,traverse left and then traverse right\n",
    "#postorder-Traverse left,traverse right visit node\n",
    "#inorder-traverse left,visit node,traverse right"
   ]
  },
  {
   "cell_type": "code",
   "execution_count": 2,
   "id": "953406af",
   "metadata": {},
   "outputs": [],
   "source": [
    "class Node:\n",
    "    def __init__(self,data):\n",
    "        self.data=data\n",
    "        self.left=None\n",
    "        self.right=None\n",
    "root=Node(1)\n",
    "root.left=Node(2)\n",
    "root.right=Node(3)\n",
    "root.left.left=Node(4)\n",
    "root.left.right=Node(5)\n",
    "root.right=Node(3)\n",
    "root.right.left=Node(6)\n",
    "root.right.right=Node(7)"
   ]
  },
  {
   "cell_type": "code",
   "execution_count": 3,
   "id": "9c63de06",
   "metadata": {},
   "outputs": [],
   "source": [
    "def inorder(root):\n",
    "    if root:\n",
    "        inorder(root.left)\n",
    "        print(root.data,end=\" \")\n",
    "        inorder(root.right)"
   ]
  },
  {
   "cell_type": "code",
   "execution_count": 4,
   "id": "79ff15aa",
   "metadata": {},
   "outputs": [
    {
     "name": "stdout",
     "output_type": "stream",
     "text": [
      "4 2 5 1 6 3 7 "
     ]
    }
   ],
   "source": [
    "inorder(root)"
   ]
  },
  {
   "cell_type": "code",
   "execution_count": 5,
   "id": "3f5772f1",
   "metadata": {},
   "outputs": [],
   "source": [
    "def preorder(root):\n",
    "    if root:\n",
    "        print(root.data,end=\" \")\n",
    "        preorder(root.left)\n",
    "        preorder(root.right)"
   ]
  },
  {
   "cell_type": "code",
   "execution_count": 6,
   "id": "33ecd582",
   "metadata": {},
   "outputs": [
    {
     "name": "stdout",
     "output_type": "stream",
     "text": [
      "1 2 4 5 3 6 7 "
     ]
    }
   ],
   "source": [
    "preorder(root)"
   ]
  },
  {
   "cell_type": "code",
   "execution_count": 7,
   "id": "be361b9f",
   "metadata": {},
   "outputs": [],
   "source": [
    "def postorder(root):\n",
    "    if root:\n",
    "        postorder(root.left)\n",
    "        postorder(root.right)\n",
    "        print(root.data,end=\" \")"
   ]
  },
  {
   "cell_type": "code",
   "execution_count": 8,
   "id": "c0127fb4",
   "metadata": {},
   "outputs": [
    {
     "name": "stdout",
     "output_type": "stream",
     "text": [
      "4 5 2 6 7 3 1 "
     ]
    }
   ],
   "source": [
    "postorder(root)"
   ]
  },
  {
   "cell_type": "code",
   "execution_count": 9,
   "id": "c4a5f4e0",
   "metadata": {},
   "outputs": [],
   "source": [
    "def size(root):\n",
    "    left_items=0 if root.left is None else size(root.left)\n",
    "    right_items=0 if root.right is None else size(root.right)\n",
    "    return left_items+right_items+1"
   ]
  },
  {
   "cell_type": "code",
   "execution_count": 10,
   "id": "7fe3119c",
   "metadata": {},
   "outputs": [
    {
     "data": {
      "text/plain": [
       "7"
      ]
     },
     "execution_count": 10,
     "metadata": {},
     "output_type": "execute_result"
    }
   ],
   "source": [
    "size(root)"
   ]
  },
  {
   "cell_type": "code",
   "execution_count": 11,
   "id": "9ebb0b37",
   "metadata": {},
   "outputs": [],
   "source": [
    "def depth(root):\n",
    "    if root is None:\n",
    "        return 0\n",
    "    l_depth=depth(root.left)\n",
    "    r_depth=depth(root.right)\n",
    "    if l_depth>r_depth:\n",
    "        return l_depth+1\n",
    "    else:\n",
    "        return r_depth+1"
   ]
  },
  {
   "cell_type": "code",
   "execution_count": 12,
   "id": "0c16424b",
   "metadata": {},
   "outputs": [
    {
     "data": {
      "text/plain": [
       "3"
      ]
     },
     "execution_count": 12,
     "metadata": {},
     "output_type": "execute_result"
    }
   ],
   "source": [
    "depth(root)"
   ]
  },
  {
   "cell_type": "code",
   "execution_count": 13,
   "id": "304711c7",
   "metadata": {},
   "outputs": [],
   "source": [
    "def search(root,data):\n",
    "    if root is None:\n",
    "        return False\n",
    "    if root.data==data:\n",
    "        return True\n",
    "    return search(root.left,data)|search(root.right,data)"
   ]
  },
  {
   "cell_type": "code",
   "execution_count": 14,
   "id": "fece7dcb",
   "metadata": {},
   "outputs": [
    {
     "data": {
      "text/plain": [
       "True"
      ]
     },
     "execution_count": 14,
     "metadata": {},
     "output_type": "execute_result"
    }
   ],
   "source": [
    "search(root,2)"
   ]
  },
  {
   "cell_type": "code",
   "execution_count": 15,
   "id": "37ca9ec3",
   "metadata": {},
   "outputs": [
    {
     "data": {
      "text/plain": [
       "False"
      ]
     },
     "execution_count": 15,
     "metadata": {},
     "output_type": "execute_result"
    }
   ],
   "source": [
    "search(root,11)"
   ]
  },
  {
   "cell_type": "code",
   "execution_count": 16,
   "id": "5a106b52",
   "metadata": {},
   "outputs": [
    {
     "data": {
      "text/plain": [
       "True"
      ]
     },
     "execution_count": 16,
     "metadata": {},
     "output_type": "execute_result"
    }
   ],
   "source": [
    "search(root,7)"
   ]
  },
  {
   "cell_type": "code",
   "execution_count": 17,
   "id": "035f7a3f",
   "metadata": {},
   "outputs": [
    {
     "data": {
      "text/plain": [
       "False"
      ]
     },
     "execution_count": 17,
     "metadata": {},
     "output_type": "execute_result"
    }
   ],
   "source": [
    "search(root,9)"
   ]
  },
  {
   "cell_type": "code",
   "execution_count": 18,
   "id": "ebda3d1e",
   "metadata": {},
   "outputs": [
    {
     "data": {
      "text/plain": [
       "False"
      ]
     },
     "execution_count": 18,
     "metadata": {},
     "output_type": "execute_result"
    }
   ],
   "source": [
    "search(root,14)"
   ]
  },
  {
   "cell_type": "code",
   "execution_count": 19,
   "id": "723a0661",
   "metadata": {},
   "outputs": [
    {
     "data": {
      "text/plain": [
       "True"
      ]
     },
     "execution_count": 19,
     "metadata": {},
     "output_type": "execute_result"
    }
   ],
   "source": [
    "search(root,5)"
   ]
  },
  {
   "cell_type": "code",
   "execution_count": null,
   "id": "8741fb08",
   "metadata": {},
   "outputs": [],
   "source": []
  }
 ],
 "metadata": {
  "kernelspec": {
   "display_name": "Python 3 (ipykernel)",
   "language": "python",
   "name": "python3"
  },
  "language_info": {
   "codemirror_mode": {
    "name": "ipython",
    "version": 3
   },
   "file_extension": ".py",
   "mimetype": "text/x-python",
   "name": "python",
   "nbconvert_exporter": "python",
   "pygments_lexer": "ipython3",
   "version": "3.9.13"
  }
 },
 "nbformat": 4,
 "nbformat_minor": 5
}
